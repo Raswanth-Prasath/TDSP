{
  "cells": [
    {
      "cell_type": "markdown",
      "metadata": {
        "id": "view-in-github",
        "colab_type": "text"
      },
      "source": [
        "<a href=\"https://colab.research.google.com/github/Raswanth-Prasath/Transportation_DS_Project-TDSP/blob/main/EXPLORER_ACCELERATOR_Transportation_Data_Science_Project_(TDSP).ipynb\" target=\"_parent\"><img src=\"https://colab.research.google.com/assets/colab-badge.svg\" alt=\"Open In Colab\"/></a>"
      ]
    },
    {
      "cell_type": "markdown",
      "source": [
        "# 🚗 **Welcome to the <font color='crimson'>** **Explorer Transportation Data Science Project! 🚗**</font>\n",
        " Hosted by the [Northeast Big Data Innovation Hub](https://nebigdatahub.org/about) & [National Student Data Corps](https://nebigdatahub.org/nsdc), in collaboration with the [U.S. Department of Transportation Federal Highway Administration](https://highways.dot.gov/).\n",
        "\n",
        "\n",
        "---\n",
        "\n"
      ],
      "metadata": {
        "id": "4XMQbpf49Iwp"
      }
    },
    {
      "cell_type": "markdown",
      "metadata": {
        "id": "RKnVUiwQZPdq"
      },
      "source": [
        "## <font color='crimson'>**Project Information and Background:**</font>"
      ]
    },
    {
      "cell_type": "markdown",
      "source": [
        "**Project Description:**\n",
        "\n",
        "By participating in this project, you are joining a\n",
        "community of transportation data science learners interested in making roads safer for vulnerable road users.\n",
        "\n",
        "The Explorer TDSP has six Milestones, including guided transportation research into a community of interest. Each Milestone can take 1-5 hours, or less, depending on your level of experience.\n",
        "\n",
        "To learn more about this project, including key highlights, incentives, and important links, [review the TDSP Webpage here](https://nebigdatahub.org/nsdc/tdsp/)!"
      ],
      "metadata": {
        "id": "BybRYF48QePA"
      }
    },
    {
      "cell_type": "markdown",
      "source": [
        "## <font color='crimson'>**How to Get Started:**</font>\n"
      ],
      "metadata": {
        "id": "iYsruLb8CH8a"
      }
    },
    {
      "cell_type": "markdown",
      "source": [
        "In order to work within this Google Colab Notebook, **please start by clicking on \"File\" in the top left corner of your notebook, and then \"Save a copy in Drive.\" Rename the file to \"Explorer TDSP - Your Full Name.\"** This will save a copy of the notebook in your personal Google Drive.\n",
        "\n",
        "You may now begin!\n",
        "\n"
      ],
      "metadata": {
        "id": "9qWTN6tkQiKl"
      }
    },
    {
      "cell_type": "markdown",
      "metadata": {
        "id": "1mty7kOOZPdq"
      },
      "source": [
        "\n",
        "---\n",
        "---"
      ]
    },
    {
      "cell_type": "markdown",
      "source": [
        "## <font color='crimson'>**A Quick Introduction to Google Colab**</font>\n",
        "\n",
        "\n"
      ],
      "metadata": {
        "id": "Yog3c5lwIX0p"
      }
    },
    {
      "cell_type": "markdown",
      "source": [
        "Read below for a Google Colab QuickStart:\n",
        "- Google Colab is a Python Notebook environment built by Google that's free for all.\n",
        "- Colab Notebooks are made up of cells; cells can be either *text* or *code* cells. You can click the +code or +text button at the top of the Notebook to create a new cell.\n",
        "- Text cells use a format called [Markdown](https://www.markdownguide.org/getting-started/). Knowledge of Markdown is not required for this project. However, if you'd like to learn more, [check out this Cheatsheet!](https://www.markdownguide.org/cheat-sheet/)\n",
        "- Python code is executed in *code* cells. When you want to run your code, hover your cursor over the square brackets in the top left corner of your code cell. You'll notice a play button pop up! (▶) Click the play button to run the code in that cell. Code cells run one at a time.\n",
        "- The memory shared across your notebook is called the *Runtime*. You can think of a Runtime as a \"code session\" where everything you create and execute is temporarily stored.\n",
        "- Runtimes will persist for a short period of time, so you are safe if you need to refresh the page, but Google will shutdown a Runtime after enough time has passed. Everything that you have printed out will remain within your Notebook even if the runtime is disconnected.\n",
        "\n",
        "If this is your first time using Google Colab, we highly recommend reviewing the [NSDC's *Using Google Colab Guide*](https://nebigdatahub.org/wp-content/uploads/2023/04/NSDC-Data-Science-Projects-Introduction-Using-Google-Colab.pdf) before continuing. For a more comprehensive guide, see [Colab's *Welcome To Colaboratory* walkthrough.](https://colab.research.google.com/github/prites18/NoteNote/blob/master/Welcome_To_Colaboratory.ipynb)"
      ],
      "metadata": {
        "id": "WHba4I24yBt8"
      }
    },
    {
      "cell_type": "markdown",
      "source": [
        "## <font color='crimson'>**An Introduction to Python Programming**</font>\n",
        "\n",
        "\n",
        "\n"
      ],
      "metadata": {
        "id": "UnE1MXoBJ1ST"
      }
    },
    {
      "cell_type": "markdown",
      "source": [
        "Python is a programming language often used to analyze data.\n",
        "\n",
        "Python is open-source, which means it's free to use and distribute, even for commercial purposes. Python's versatility allows it to be used for web development, data visualization, artificial intelligence, scientific computing, and more.\n",
        "\n",
        "Python's extensive standard library, along with its powerful third-party packages, enable developers and data scientists to perform a vast array of tasks.\n",
        "\n",
        "For those looking to dive deeper into Python, here are some valuable resources:\n",
        "- [The Official Python Documentation](https://docs.python.org/3/) – Offers comprehensive guides and reference materials for Python leaners.\n",
        "- [Real Python](https://realpython.com/) – Provides tutorials and articles for Python developers of all skill levels.\n",
        "- [PyCon](https://pycon.org/) – The largest annual gathering for the Python community, which is useful for learning from experts and discovering the latest developments in the Python ecosystem.\n",
        "- [Python for Everybody](https://www.py4e.com/) – A book and website by Dr. Charles Severance that offers a free course on Python for beginners."
      ],
      "metadata": {
        "id": "0iM6cO7DL6XS"
      }
    },
    {
      "cell_type": "markdown",
      "source": [
        "**Let's review some essential Python Functions!**\n",
        "\n",
        "Here are some key functions you'll frequently encounter:\n",
        "\n",
        "1. **`head()`**: This function is crucial for getting a quick overview of your dataset. By default, it returns the first five rows, offering a snapshot of your data's structure and values.\n",
        "\n",
        "2. **`describe()`**: This provides a summary of the statistical characteristics of your dataset. It's particularly useful for gaining insights into the distribution, mean, standard deviation, and range of numerical columns.\n",
        "\n",
        "3. **`sum()`**: This calculates the total sum of a column or a series of numbers, proving essential for quick calculations and aggregations in data analysis.\n",
        "\n",
        "4. **`isnull()`**: This helps identify missing or null values in your dataset, allowing for effective data cleaning and preprocessing.\n",
        "\n",
        "5. **`value_counts()`**: Understanding the frequency of various values in your dataset is a common task in data science. The `value_counts()` function makes this easy by counting the occurrence of each unique value in a column.\n",
        "\n",
        "Now that you've reviewed these important concepts, let's dive in to the project!"
      ],
      "metadata": {
        "id": "Z9WPv-vPP3FC"
      }
    },
    {
      "cell_type": "markdown",
      "metadata": {
        "id": "gQpujHnvZPdr"
      },
      "source": [
        "## <font color='crimson'>**Milestone #1 - Data Preparation**</font>\n",
        "GOAL: The main goal of this milestone is to set up your environment, install the required packages, learn how to access data and do some basic exploratory data analysis.\n",
        "  "
      ]
    },
    {
      "cell_type": "markdown",
      "metadata": {
        "id": "pmouMnaaZPdr"
      },
      "source": [
        "**Step 1:** Setting up libraries and installing packages\n",
        "\n",
        "A **library** is a collection of code that you can use in your programs, while a **package** is a folder that contains libraries or other packages, organized for easy use.\n",
        "\n",
        "To install a library, we'll use the following format:\n",
        "```python\n",
        " import <library name> as <shortname>\n",
        "```\n",
        "We use a *short name* since it is easier to refer to the package to access functions and also to refer to subpackages within the library. Think of it as a nickname for easier reference!\n"
      ]
    },
    {
      "cell_type": "code",
      "execution_count": 5,
      "metadata": {
        "id": "le2dKHwnZPds"
      },
      "outputs": [],
      "source": [
        "import pandas as pd\n",
        "import matplotlib.pyplot as plt\n",
        "import seaborn as sns\n",
        "import folium"
      ]
    },
    {
      "cell_type": "markdown",
      "metadata": {
        "id": "qy1yhZqNZPdt"
      },
      "source": [
        "These are the libraries that will help us throughout this project. We invite you to research each library for a better understanding.\n",
        "\n",
        "We encourage you to read more about the important and most commonly used libraries like Pandas, Matplotlib, and Seaborn and write a few lines in your own words about what they do. [You may use the Data Science Resource Repository (DSRR) to find resources to get started!](https://nebigdatahub.org/nsdc/data-science-resource-repository/)\n",
        "\n"
      ]
    },
    {
      "cell_type": "markdown",
      "source": [
        "**TO DO:** Write a few lines about what each library does:\n",
        "\n",
        "\n",
        "\n",
        "\n",
        "> * Pandas:Data manipulation and analysis library that provides high-performance, easy-to-use data structures (primarily DataFrame and Series). It excels at handling structured data like CSV files, Excel sheets, and SQL tables. Key features include data cleaning, merging, reshaping, and statistical operations. Think of it as Excel-like functionality but with much more power and programmatic control.\n",
        "\n",
        "> * Matplotlib:The foundational plotting library in Python that provides a MATLAB-like interface for creating static, animated, and interactive visualizations. It gives you fine-grained control over every element of your plots (axes, labels, colors, etc.). While it can create virtually any type of plot, it often requires more code than newer libraries. It serves as the backend for many other visualization libraries.\n",
        "> * Seaborn:Built on top of Matplotlib, Seaborn focuses on statistical visualization with a more modern and aesthetically pleasing default style. It simplifies the creation of complex statistical graphics like violin plots, heatmaps, and regression plots. Seaborn is particularly strong at handling DataFrames directly and creating plots that help understand relationships in your data. Think of it as Matplotlib with better defaults and higher-level functions for statistical graphics.\n",
        "\n",
        "\n",
        "\n",
        "\n",
        "\n",
        "\n",
        "\n"
      ],
      "metadata": {
        "id": "BbzAwqe-cEgI"
      }
    },
    {
      "cell_type": "markdown",
      "metadata": {
        "id": "dInyzwncZPdt"
      },
      "source": [
        "**Step 2:** Let’s access our data. We will be using the [NYC OpenData Motor Vehicle Collisions - Crashes dataset](https://data.cityofnewyork.us/Public-Safety/Motor-Vehicle-Collisions-Crashes/h9gi-nx95). According to NYC Open Data, \"each row represents a crash event. The Motor Vehicle Collisions data tables contain information from all police reported motor vehicle collisions in NYC.\" If you need a reminder on how to upload your dataset, [please review helpful hints here.](https://nebigdatahub.org/wp-content/uploads/2023/04/NSDC-Data-Science-Projects-Introduction-Using-Google-Colab.pdf)\n",
        "\n",
        "Since this is a large dataset, we highly recommend that you upload your data by [mounting your Google Drive](https://colab.research.google.com/notebooks/io.ipynb#scrollTo=u22w3BFiOveA).\n",
        "\n",
        "To mount your Google Drive, begin by finding the folder icon on the left side of your screen. When you click on this folder icon, you will open the Files window. Click on the icon at the top of the Files window that says \"Mount Drive\" as you hover over it.\n",
        "\n"
      ]
    },
    {
      "cell_type": "code",
      "source": [
        "#from google.colab import drive\n",
        "#drive.mount('/content/drive')"
      ],
      "metadata": {
        "id": "lbMS5rPxUa6-"
      },
      "execution_count": 6,
      "outputs": []
    },
    {
      "cell_type": "markdown",
      "source": [
        "Next, we will read the data using the `pd.read_csv` function.\n",
        "Ensure that you've downloaded the dataset from NYC OpenData, and uploaded the dataset to your Google Drive.\n",
        "\n"
      ],
      "metadata": {
        "id": "vi2OnWfcJpDW"
      }
    },
    {
      "cell_type": "markdown",
      "source": [
        "Hint: Your data's file path describes the location of where your data lives. To locate your data's file path, click on the folder/file-shaped icon on the left side of the Notebook. You'll notice a folder labeled \"drive.\" Search for your Motor Vehicle Collisions Dataset within that folder. Right click on your Dataset to \"copy path.\" Paste that path below."
      ],
      "metadata": {
        "id": "ODWydXCBaURB"
      }
    },
    {
      "cell_type": "markdown",
      "source": [
        "Here, The code uses direct API access through Pandas. The `$limit` parameter sets a limit on how much you query from a dataset. In this case, `$limit=2148091` specifies that we want to import all 2,148,091 columns from the dataset."
      ],
      "metadata": {
        "id": "D488XQya7QxX"
      }
    },
    {
      "cell_type": "code",
      "execution_count": 7,
      "metadata": {
        "id": "aBDt0Qvzndex",
        "colab": {
          "base_uri": "https://localhost:8080/"
        },
        "outputId": "ebb1d870-0877-452a-ced3-773ea5ff4096"
      },
      "outputs": [
        {
          "output_type": "stream",
          "name": "stderr",
          "text": [
            "<ipython-input-7-40e6d61e74ed>:3: DtypeWarning: Columns (3) have mixed types. Specify dtype option on import or set low_memory=False.\n",
            "  data = pd.read_csv(url)\n"
          ]
        }
      ],
      "source": [
        "# TODO: Read the data using pandas read_csv function\n",
        "url = \"https://data.cityofnewyork.us/resource/h9gi-nx95.csv?$limit=2148091\"\n",
        "data = pd.read_csv(url)"
      ]
    },
    {
      "cell_type": "markdown",
      "metadata": {
        "id": "nhFDTTsSZPd4"
      },
      "source": [
        "**Step 3:** Let's see what the data looks like. We can use the `head` function which returns the first 5 rows of the dataset."
      ]
    },
    {
      "cell_type": "code",
      "execution_count": 8,
      "metadata": {
        "id": "24duiI4RpNDN",
        "colab": {
          "base_uri": "https://localhost:8080/"
        },
        "outputId": "8a4e5ae8-939a-4aee-91b3-de041fee2103"
      },
      "outputs": [
        {
          "output_type": "stream",
          "name": "stdout",
          "text": [
            "                crash_date crash_time   borough zip_code   latitude  \\\n",
            "0  2021-09-11T00:00:00.000       2:39       NaN      NaN        NaN   \n",
            "1  2022-03-26T00:00:00.000      11:45       NaN      NaN        NaN   \n",
            "2  2022-06-29T00:00:00.000       6:55       NaN      NaN        NaN   \n",
            "3  2021-09-11T00:00:00.000       9:35  BROOKLYN  11208.0  40.667202   \n",
            "4  2021-12-14T00:00:00.000       8:13  BROOKLYN  11233.0  40.683304   \n",
            "\n",
            "   longitude                        location           on_street_name  \\\n",
            "0        NaN                             NaN    WHITESTONE EXPRESSWAY   \n",
            "1        NaN                             NaN  QUEENSBORO BRIDGE UPPER   \n",
            "2        NaN                             NaN       THROGS NECK BRIDGE   \n",
            "3 -73.866500    \\n,  \\n(40.667202, -73.8665)                      NaN   \n",
            "4 -73.917274  \\n,  \\n(40.683304, -73.917274)          SARATOGA AVENUE   \n",
            "\n",
            "  off_street_name        cross_street_name  ...  \\\n",
            "0       20 AVENUE                      NaN  ...   \n",
            "1             NaN                      NaN  ...   \n",
            "2             NaN                      NaN  ...   \n",
            "3             NaN  1211      LORING AVENUE  ...   \n",
            "4  DECATUR STREET                      NaN  ...   \n",
            "\n",
            "   contributing_factor_vehicle_2  contributing_factor_vehicle_3  \\\n",
            "0                    Unspecified                            NaN   \n",
            "1                            NaN                            NaN   \n",
            "2                    Unspecified                            NaN   \n",
            "3                            NaN                            NaN   \n",
            "4                            NaN                            NaN   \n",
            "\n",
            "   contributing_factor_vehicle_4  contributing_factor_vehicle_5  collision_id  \\\n",
            "0                            NaN                            NaN       4455765   \n",
            "1                            NaN                            NaN       4513547   \n",
            "2                            NaN                            NaN       4541903   \n",
            "3                            NaN                            NaN       4456314   \n",
            "4                            NaN                            NaN       4486609   \n",
            "\n",
            "   vehicle_type_code1  vehicle_type_code2  vehicle_type_code_3  \\\n",
            "0               Sedan               Sedan                  NaN   \n",
            "1               Sedan                 NaN                  NaN   \n",
            "2               Sedan       Pick-up Truck                  NaN   \n",
            "3               Sedan                 NaN                  NaN   \n",
            "4                 NaN                 NaN                  NaN   \n",
            "\n",
            "  vehicle_type_code_4 vehicle_type_code_5  \n",
            "0                 NaN                 NaN  \n",
            "1                 NaN                 NaN  \n",
            "2                 NaN                 NaN  \n",
            "3                 NaN                 NaN  \n",
            "4                 NaN                 NaN  \n",
            "\n",
            "[5 rows x 29 columns]\n"
          ]
        }
      ],
      "source": [
        "# TODO: Print the first 5 rows of the data using head function of pandas\n",
        "print(data.head())"
      ]
    },
    {
      "cell_type": "code",
      "execution_count": 9,
      "metadata": {
        "id": "IfzpsKR2BIFy",
        "colab": {
          "base_uri": "https://localhost:8080/",
          "height": 320
        },
        "outputId": "ea61e1f0-7833-48e4-9eca-713ccbd07efc"
      },
      "outputs": [
        {
          "output_type": "execute_result",
          "data": {
            "text/plain": [
              "           latitude     longitude  number_of_persons_injured  \\\n",
              "count  1.908529e+06  1.908529e+06               2.148073e+06   \n",
              "mean   4.061988e+01 -7.373790e+01               3.196279e-01   \n",
              "std    2.057953e+00  3.854712e+00               7.081017e-01   \n",
              "min    0.000000e+00 -2.013600e+02               0.000000e+00   \n",
              "25%    4.066755e+01 -7.397469e+01               0.000000e+00   \n",
              "50%    4.072055e+01 -7.392705e+01               0.000000e+00   \n",
              "75%    4.076962e+01 -7.386674e+01               0.000000e+00   \n",
              "max    4.334444e+01  0.000000e+00               4.300000e+01   \n",
              "\n",
              "       number_of_persons_killed  number_of_pedestrians_injured  \\\n",
              "count              2.148060e+06                   2.148091e+06   \n",
              "mean               1.542322e-03                   5.815489e-02   \n",
              "std                4.144610e-02                   2.472716e-01   \n",
              "min                0.000000e+00                   0.000000e+00   \n",
              "25%                0.000000e+00                   0.000000e+00   \n",
              "50%                0.000000e+00                   0.000000e+00   \n",
              "75%                0.000000e+00                   0.000000e+00   \n",
              "max                8.000000e+00                   2.700000e+01   \n",
              "\n",
              "       number_of_pedestrians_killed  number_of_cyclist_injured  \\\n",
              "count                  2.148091e+06               2.148091e+06   \n",
              "mean                   7.630031e-04               2.795878e-02   \n",
              "std                    2.817938e-02               1.669899e-01   \n",
              "min                    0.000000e+00               0.000000e+00   \n",
              "25%                    0.000000e+00               0.000000e+00   \n",
              "50%                    0.000000e+00               0.000000e+00   \n",
              "75%                    0.000000e+00               0.000000e+00   \n",
              "max                    6.000000e+00               4.000000e+00   \n",
              "\n",
              "       number_of_cyclist_killed  number_of_motorist_injured  \\\n",
              "count              2.148091e+06                2.148091e+06   \n",
              "mean               1.205722e-04                2.292948e-01   \n",
              "std                1.102219e-02                6.692569e-01   \n",
              "min                0.000000e+00                0.000000e+00   \n",
              "25%                0.000000e+00                0.000000e+00   \n",
              "50%                0.000000e+00                0.000000e+00   \n",
              "75%                0.000000e+00                0.000000e+00   \n",
              "max                2.000000e+00                4.300000e+01   \n",
              "\n",
              "       number_of_motorist_killed  collision_id  \n",
              "count               2.148091e+06  2.148091e+06  \n",
              "mean                6.340514e-04  3.213368e+06  \n",
              "std                 2.753927e-02  1.507099e+06  \n",
              "min                 0.000000e+00  2.200000e+01  \n",
              "25%                 0.000000e+00  3.173142e+06  \n",
              "50%                 0.000000e+00  3.710312e+06  \n",
              "75%                 0.000000e+00  4.247566e+06  \n",
              "max                 5.000000e+00  4.784868e+06  "
            ],
            "text/html": [
              "\n",
              "  <div id=\"df-033f0794-3533-4537-83d4-639e6d94bf81\" class=\"colab-df-container\">\n",
              "    <div>\n",
              "<style scoped>\n",
              "    .dataframe tbody tr th:only-of-type {\n",
              "        vertical-align: middle;\n",
              "    }\n",
              "\n",
              "    .dataframe tbody tr th {\n",
              "        vertical-align: top;\n",
              "    }\n",
              "\n",
              "    .dataframe thead th {\n",
              "        text-align: right;\n",
              "    }\n",
              "</style>\n",
              "<table border=\"1\" class=\"dataframe\">\n",
              "  <thead>\n",
              "    <tr style=\"text-align: right;\">\n",
              "      <th></th>\n",
              "      <th>latitude</th>\n",
              "      <th>longitude</th>\n",
              "      <th>number_of_persons_injured</th>\n",
              "      <th>number_of_persons_killed</th>\n",
              "      <th>number_of_pedestrians_injured</th>\n",
              "      <th>number_of_pedestrians_killed</th>\n",
              "      <th>number_of_cyclist_injured</th>\n",
              "      <th>number_of_cyclist_killed</th>\n",
              "      <th>number_of_motorist_injured</th>\n",
              "      <th>number_of_motorist_killed</th>\n",
              "      <th>collision_id</th>\n",
              "    </tr>\n",
              "  </thead>\n",
              "  <tbody>\n",
              "    <tr>\n",
              "      <th>count</th>\n",
              "      <td>1.908529e+06</td>\n",
              "      <td>1.908529e+06</td>\n",
              "      <td>2.148073e+06</td>\n",
              "      <td>2.148060e+06</td>\n",
              "      <td>2.148091e+06</td>\n",
              "      <td>2.148091e+06</td>\n",
              "      <td>2.148091e+06</td>\n",
              "      <td>2.148091e+06</td>\n",
              "      <td>2.148091e+06</td>\n",
              "      <td>2.148091e+06</td>\n",
              "      <td>2.148091e+06</td>\n",
              "    </tr>\n",
              "    <tr>\n",
              "      <th>mean</th>\n",
              "      <td>4.061988e+01</td>\n",
              "      <td>-7.373790e+01</td>\n",
              "      <td>3.196279e-01</td>\n",
              "      <td>1.542322e-03</td>\n",
              "      <td>5.815489e-02</td>\n",
              "      <td>7.630031e-04</td>\n",
              "      <td>2.795878e-02</td>\n",
              "      <td>1.205722e-04</td>\n",
              "      <td>2.292948e-01</td>\n",
              "      <td>6.340514e-04</td>\n",
              "      <td>3.213368e+06</td>\n",
              "    </tr>\n",
              "    <tr>\n",
              "      <th>std</th>\n",
              "      <td>2.057953e+00</td>\n",
              "      <td>3.854712e+00</td>\n",
              "      <td>7.081017e-01</td>\n",
              "      <td>4.144610e-02</td>\n",
              "      <td>2.472716e-01</td>\n",
              "      <td>2.817938e-02</td>\n",
              "      <td>1.669899e-01</td>\n",
              "      <td>1.102219e-02</td>\n",
              "      <td>6.692569e-01</td>\n",
              "      <td>2.753927e-02</td>\n",
              "      <td>1.507099e+06</td>\n",
              "    </tr>\n",
              "    <tr>\n",
              "      <th>min</th>\n",
              "      <td>0.000000e+00</td>\n",
              "      <td>-2.013600e+02</td>\n",
              "      <td>0.000000e+00</td>\n",
              "      <td>0.000000e+00</td>\n",
              "      <td>0.000000e+00</td>\n",
              "      <td>0.000000e+00</td>\n",
              "      <td>0.000000e+00</td>\n",
              "      <td>0.000000e+00</td>\n",
              "      <td>0.000000e+00</td>\n",
              "      <td>0.000000e+00</td>\n",
              "      <td>2.200000e+01</td>\n",
              "    </tr>\n",
              "    <tr>\n",
              "      <th>25%</th>\n",
              "      <td>4.066755e+01</td>\n",
              "      <td>-7.397469e+01</td>\n",
              "      <td>0.000000e+00</td>\n",
              "      <td>0.000000e+00</td>\n",
              "      <td>0.000000e+00</td>\n",
              "      <td>0.000000e+00</td>\n",
              "      <td>0.000000e+00</td>\n",
              "      <td>0.000000e+00</td>\n",
              "      <td>0.000000e+00</td>\n",
              "      <td>0.000000e+00</td>\n",
              "      <td>3.173142e+06</td>\n",
              "    </tr>\n",
              "    <tr>\n",
              "      <th>50%</th>\n",
              "      <td>4.072055e+01</td>\n",
              "      <td>-7.392705e+01</td>\n",
              "      <td>0.000000e+00</td>\n",
              "      <td>0.000000e+00</td>\n",
              "      <td>0.000000e+00</td>\n",
              "      <td>0.000000e+00</td>\n",
              "      <td>0.000000e+00</td>\n",
              "      <td>0.000000e+00</td>\n",
              "      <td>0.000000e+00</td>\n",
              "      <td>0.000000e+00</td>\n",
              "      <td>3.710312e+06</td>\n",
              "    </tr>\n",
              "    <tr>\n",
              "      <th>75%</th>\n",
              "      <td>4.076962e+01</td>\n",
              "      <td>-7.386674e+01</td>\n",
              "      <td>0.000000e+00</td>\n",
              "      <td>0.000000e+00</td>\n",
              "      <td>0.000000e+00</td>\n",
              "      <td>0.000000e+00</td>\n",
              "      <td>0.000000e+00</td>\n",
              "      <td>0.000000e+00</td>\n",
              "      <td>0.000000e+00</td>\n",
              "      <td>0.000000e+00</td>\n",
              "      <td>4.247566e+06</td>\n",
              "    </tr>\n",
              "    <tr>\n",
              "      <th>max</th>\n",
              "      <td>4.334444e+01</td>\n",
              "      <td>0.000000e+00</td>\n",
              "      <td>4.300000e+01</td>\n",
              "      <td>8.000000e+00</td>\n",
              "      <td>2.700000e+01</td>\n",
              "      <td>6.000000e+00</td>\n",
              "      <td>4.000000e+00</td>\n",
              "      <td>2.000000e+00</td>\n",
              "      <td>4.300000e+01</td>\n",
              "      <td>5.000000e+00</td>\n",
              "      <td>4.784868e+06</td>\n",
              "    </tr>\n",
              "  </tbody>\n",
              "</table>\n",
              "</div>\n",
              "    <div class=\"colab-df-buttons\">\n",
              "\n",
              "  <div class=\"colab-df-container\">\n",
              "    <button class=\"colab-df-convert\" onclick=\"convertToInteractive('df-033f0794-3533-4537-83d4-639e6d94bf81')\"\n",
              "            title=\"Convert this dataframe to an interactive table.\"\n",
              "            style=\"display:none;\">\n",
              "\n",
              "  <svg xmlns=\"http://www.w3.org/2000/svg\" height=\"24px\" viewBox=\"0 -960 960 960\">\n",
              "    <path d=\"M120-120v-720h720v720H120Zm60-500h600v-160H180v160Zm220 220h160v-160H400v160Zm0 220h160v-160H400v160ZM180-400h160v-160H180v160Zm440 0h160v-160H620v160ZM180-180h160v-160H180v160Zm440 0h160v-160H620v160Z\"/>\n",
              "  </svg>\n",
              "    </button>\n",
              "\n",
              "  <style>\n",
              "    .colab-df-container {\n",
              "      display:flex;\n",
              "      gap: 12px;\n",
              "    }\n",
              "\n",
              "    .colab-df-convert {\n",
              "      background-color: #E8F0FE;\n",
              "      border: none;\n",
              "      border-radius: 50%;\n",
              "      cursor: pointer;\n",
              "      display: none;\n",
              "      fill: #1967D2;\n",
              "      height: 32px;\n",
              "      padding: 0 0 0 0;\n",
              "      width: 32px;\n",
              "    }\n",
              "\n",
              "    .colab-df-convert:hover {\n",
              "      background-color: #E2EBFA;\n",
              "      box-shadow: 0px 1px 2px rgba(60, 64, 67, 0.3), 0px 1px 3px 1px rgba(60, 64, 67, 0.15);\n",
              "      fill: #174EA6;\n",
              "    }\n",
              "\n",
              "    .colab-df-buttons div {\n",
              "      margin-bottom: 4px;\n",
              "    }\n",
              "\n",
              "    [theme=dark] .colab-df-convert {\n",
              "      background-color: #3B4455;\n",
              "      fill: #D2E3FC;\n",
              "    }\n",
              "\n",
              "    [theme=dark] .colab-df-convert:hover {\n",
              "      background-color: #434B5C;\n",
              "      box-shadow: 0px 1px 3px 1px rgba(0, 0, 0, 0.15);\n",
              "      filter: drop-shadow(0px 1px 2px rgba(0, 0, 0, 0.3));\n",
              "      fill: #FFFFFF;\n",
              "    }\n",
              "  </style>\n",
              "\n",
              "    <script>\n",
              "      const buttonEl =\n",
              "        document.querySelector('#df-033f0794-3533-4537-83d4-639e6d94bf81 button.colab-df-convert');\n",
              "      buttonEl.style.display =\n",
              "        google.colab.kernel.accessAllowed ? 'block' : 'none';\n",
              "\n",
              "      async function convertToInteractive(key) {\n",
              "        const element = document.querySelector('#df-033f0794-3533-4537-83d4-639e6d94bf81');\n",
              "        const dataTable =\n",
              "          await google.colab.kernel.invokeFunction('convertToInteractive',\n",
              "                                                    [key], {});\n",
              "        if (!dataTable) return;\n",
              "\n",
              "        const docLinkHtml = 'Like what you see? Visit the ' +\n",
              "          '<a target=\"_blank\" href=https://colab.research.google.com/notebooks/data_table.ipynb>data table notebook</a>'\n",
              "          + ' to learn more about interactive tables.';\n",
              "        element.innerHTML = '';\n",
              "        dataTable['output_type'] = 'display_data';\n",
              "        await google.colab.output.renderOutput(dataTable, element);\n",
              "        const docLink = document.createElement('div');\n",
              "        docLink.innerHTML = docLinkHtml;\n",
              "        element.appendChild(docLink);\n",
              "      }\n",
              "    </script>\n",
              "  </div>\n",
              "\n",
              "\n",
              "<div id=\"df-17fdea02-1ecd-419a-8696-1d94eceef7cc\">\n",
              "  <button class=\"colab-df-quickchart\" onclick=\"quickchart('df-17fdea02-1ecd-419a-8696-1d94eceef7cc')\"\n",
              "            title=\"Suggest charts\"\n",
              "            style=\"display:none;\">\n",
              "\n",
              "<svg xmlns=\"http://www.w3.org/2000/svg\" height=\"24px\"viewBox=\"0 0 24 24\"\n",
              "     width=\"24px\">\n",
              "    <g>\n",
              "        <path d=\"M19 3H5c-1.1 0-2 .9-2 2v14c0 1.1.9 2 2 2h14c1.1 0 2-.9 2-2V5c0-1.1-.9-2-2-2zM9 17H7v-7h2v7zm4 0h-2V7h2v10zm4 0h-2v-4h2v4z\"/>\n",
              "    </g>\n",
              "</svg>\n",
              "  </button>\n",
              "\n",
              "<style>\n",
              "  .colab-df-quickchart {\n",
              "      --bg-color: #E8F0FE;\n",
              "      --fill-color: #1967D2;\n",
              "      --hover-bg-color: #E2EBFA;\n",
              "      --hover-fill-color: #174EA6;\n",
              "      --disabled-fill-color: #AAA;\n",
              "      --disabled-bg-color: #DDD;\n",
              "  }\n",
              "\n",
              "  [theme=dark] .colab-df-quickchart {\n",
              "      --bg-color: #3B4455;\n",
              "      --fill-color: #D2E3FC;\n",
              "      --hover-bg-color: #434B5C;\n",
              "      --hover-fill-color: #FFFFFF;\n",
              "      --disabled-bg-color: #3B4455;\n",
              "      --disabled-fill-color: #666;\n",
              "  }\n",
              "\n",
              "  .colab-df-quickchart {\n",
              "    background-color: var(--bg-color);\n",
              "    border: none;\n",
              "    border-radius: 50%;\n",
              "    cursor: pointer;\n",
              "    display: none;\n",
              "    fill: var(--fill-color);\n",
              "    height: 32px;\n",
              "    padding: 0;\n",
              "    width: 32px;\n",
              "  }\n",
              "\n",
              "  .colab-df-quickchart:hover {\n",
              "    background-color: var(--hover-bg-color);\n",
              "    box-shadow: 0 1px 2px rgba(60, 64, 67, 0.3), 0 1px 3px 1px rgba(60, 64, 67, 0.15);\n",
              "    fill: var(--button-hover-fill-color);\n",
              "  }\n",
              "\n",
              "  .colab-df-quickchart-complete:disabled,\n",
              "  .colab-df-quickchart-complete:disabled:hover {\n",
              "    background-color: var(--disabled-bg-color);\n",
              "    fill: var(--disabled-fill-color);\n",
              "    box-shadow: none;\n",
              "  }\n",
              "\n",
              "  .colab-df-spinner {\n",
              "    border: 2px solid var(--fill-color);\n",
              "    border-color: transparent;\n",
              "    border-bottom-color: var(--fill-color);\n",
              "    animation:\n",
              "      spin 1s steps(1) infinite;\n",
              "  }\n",
              "\n",
              "  @keyframes spin {\n",
              "    0% {\n",
              "      border-color: transparent;\n",
              "      border-bottom-color: var(--fill-color);\n",
              "      border-left-color: var(--fill-color);\n",
              "    }\n",
              "    20% {\n",
              "      border-color: transparent;\n",
              "      border-left-color: var(--fill-color);\n",
              "      border-top-color: var(--fill-color);\n",
              "    }\n",
              "    30% {\n",
              "      border-color: transparent;\n",
              "      border-left-color: var(--fill-color);\n",
              "      border-top-color: var(--fill-color);\n",
              "      border-right-color: var(--fill-color);\n",
              "    }\n",
              "    40% {\n",
              "      border-color: transparent;\n",
              "      border-right-color: var(--fill-color);\n",
              "      border-top-color: var(--fill-color);\n",
              "    }\n",
              "    60% {\n",
              "      border-color: transparent;\n",
              "      border-right-color: var(--fill-color);\n",
              "    }\n",
              "    80% {\n",
              "      border-color: transparent;\n",
              "      border-right-color: var(--fill-color);\n",
              "      border-bottom-color: var(--fill-color);\n",
              "    }\n",
              "    90% {\n",
              "      border-color: transparent;\n",
              "      border-bottom-color: var(--fill-color);\n",
              "    }\n",
              "  }\n",
              "</style>\n",
              "\n",
              "  <script>\n",
              "    async function quickchart(key) {\n",
              "      const quickchartButtonEl =\n",
              "        document.querySelector('#' + key + ' button');\n",
              "      quickchartButtonEl.disabled = true;  // To prevent multiple clicks.\n",
              "      quickchartButtonEl.classList.add('colab-df-spinner');\n",
              "      try {\n",
              "        const charts = await google.colab.kernel.invokeFunction(\n",
              "            'suggestCharts', [key], {});\n",
              "      } catch (error) {\n",
              "        console.error('Error during call to suggestCharts:', error);\n",
              "      }\n",
              "      quickchartButtonEl.classList.remove('colab-df-spinner');\n",
              "      quickchartButtonEl.classList.add('colab-df-quickchart-complete');\n",
              "    }\n",
              "    (() => {\n",
              "      let quickchartButtonEl =\n",
              "        document.querySelector('#df-17fdea02-1ecd-419a-8696-1d94eceef7cc button');\n",
              "      quickchartButtonEl.style.display =\n",
              "        google.colab.kernel.accessAllowed ? 'block' : 'none';\n",
              "    })();\n",
              "  </script>\n",
              "</div>\n",
              "\n",
              "  <div id=\"id_e64cf901-6d58-4f7f-a73f-878652e9945a\">\n",
              "    <style>\n",
              "      .colab-df-generate {\n",
              "        background-color: #E8F0FE;\n",
              "        border: none;\n",
              "        border-radius: 50%;\n",
              "        cursor: pointer;\n",
              "        display: none;\n",
              "        fill: #1967D2;\n",
              "        height: 32px;\n",
              "        padding: 0 0 0 0;\n",
              "        width: 32px;\n",
              "      }\n",
              "\n",
              "      .colab-df-generate:hover {\n",
              "        background-color: #E2EBFA;\n",
              "        box-shadow: 0px 1px 2px rgba(60, 64, 67, 0.3), 0px 1px 3px 1px rgba(60, 64, 67, 0.15);\n",
              "        fill: #174EA6;\n",
              "      }\n",
              "\n",
              "      [theme=dark] .colab-df-generate {\n",
              "        background-color: #3B4455;\n",
              "        fill: #D2E3FC;\n",
              "      }\n",
              "\n",
              "      [theme=dark] .colab-df-generate:hover {\n",
              "        background-color: #434B5C;\n",
              "        box-shadow: 0px 1px 3px 1px rgba(0, 0, 0, 0.15);\n",
              "        filter: drop-shadow(0px 1px 2px rgba(0, 0, 0, 0.3));\n",
              "        fill: #FFFFFF;\n",
              "      }\n",
              "    </style>\n",
              "    <button class=\"colab-df-generate\" onclick=\"generateWithVariable('desc_stats')\"\n",
              "            title=\"Generate code using this dataframe.\"\n",
              "            style=\"display:none;\">\n",
              "\n",
              "  <svg xmlns=\"http://www.w3.org/2000/svg\" height=\"24px\"viewBox=\"0 0 24 24\"\n",
              "       width=\"24px\">\n",
              "    <path d=\"M7,19H8.4L18.45,9,17,7.55,7,17.6ZM5,21V16.75L18.45,3.32a2,2,0,0,1,2.83,0l1.4,1.43a1.91,1.91,0,0,1,.58,1.4,1.91,1.91,0,0,1-.58,1.4L9.25,21ZM18.45,9,17,7.55Zm-12,3A5.31,5.31,0,0,0,4.9,8.1,5.31,5.31,0,0,0,1,6.5,5.31,5.31,0,0,0,4.9,4.9,5.31,5.31,0,0,0,6.5,1,5.31,5.31,0,0,0,8.1,4.9,5.31,5.31,0,0,0,12,6.5,5.46,5.46,0,0,0,6.5,12Z\"/>\n",
              "  </svg>\n",
              "    </button>\n",
              "    <script>\n",
              "      (() => {\n",
              "      const buttonEl =\n",
              "        document.querySelector('#id_e64cf901-6d58-4f7f-a73f-878652e9945a button.colab-df-generate');\n",
              "      buttonEl.style.display =\n",
              "        google.colab.kernel.accessAllowed ? 'block' : 'none';\n",
              "\n",
              "      buttonEl.onclick = () => {\n",
              "        google.colab.notebook.generateWithVariable('desc_stats');\n",
              "      }\n",
              "      })();\n",
              "    </script>\n",
              "  </div>\n",
              "\n",
              "    </div>\n",
              "  </div>\n"
            ],
            "application/vnd.google.colaboratory.intrinsic+json": {
              "type": "dataframe",
              "variable_name": "desc_stats",
              "summary": "{\n  \"name\": \"desc_stats\",\n  \"rows\": 8,\n  \"fields\": [\n    {\n      \"column\": \"latitude\",\n      \"properties\": {\n        \"dtype\": \"number\",\n        \"std\": 674756.3845626563,\n        \"min\": 0.0,\n        \"max\": 1908529.0,\n        \"num_unique_values\": 8,\n        \"samples\": [\n          40.61988054501206,\n          40.720554,\n          1908529.0\n        ],\n        \"semantic_type\": \"\",\n        \"description\": \"\"\n      }\n    },\n    {\n      \"column\": \"longitude\",\n      \"properties\": {\n        \"dtype\": \"number\",\n        \"std\": 674791.8027735715,\n        \"min\": -201.35999,\n        \"max\": 1908529.0,\n        \"num_unique_values\": 8,\n        \"samples\": [\n          -73.737897761033,\n          -73.927055,\n          1908529.0\n        ],\n        \"semantic_type\": \"\",\n        \"description\": \"\"\n      }\n    },\n    {\n      \"column\": \"number_of_persons_injured\",\n      \"properties\": {\n        \"dtype\": \"number\",\n        \"std\": 759456.2688036255,\n        \"min\": 0.0,\n        \"max\": 2148073.0,\n        \"num_unique_values\": 5,\n        \"samples\": [\n          0.31962787111983626,\n          43.0,\n          0.7081017311300035\n        ],\n        \"semantic_type\": \"\",\n        \"description\": \"\"\n      }\n    },\n    {\n      \"column\": \"number_of_persons_killed\",\n      \"properties\": {\n        \"dtype\": \"number\",\n        \"std\": 759453.4899706772,\n        \"min\": 0.0,\n        \"max\": 2148060.0,\n        \"num_unique_values\": 5,\n        \"samples\": [\n          0.0015423219090714413,\n          8.0,\n          0.04144609553970075\n        ],\n        \"semantic_type\": \"\",\n        \"description\": \"\"\n      }\n    },\n    {\n      \"column\": \"number_of_pedestrians_injured\",\n      \"properties\": {\n        \"dtype\": \"number\",\n        \"std\": 759463.4772791461,\n        \"min\": 0.0,\n        \"max\": 2148091.0,\n        \"num_unique_values\": 5,\n        \"samples\": [\n          0.05815489194824614,\n          27.0,\n          0.24727158420863618\n        ],\n        \"semantic_type\": \"\",\n        \"description\": \"\"\n      }\n    },\n    {\n      \"column\": \"number_of_pedestrians_killed\",\n      \"properties\": {\n        \"dtype\": \"number\",\n        \"std\": 759464.5518482194,\n        \"min\": 0.0,\n        \"max\": 2148091.0,\n        \"num_unique_values\": 5,\n        \"samples\": [\n          0.0007630030571330544,\n          6.0,\n          0.028179376638348096\n        ],\n        \"semantic_type\": \"\",\n        \"description\": \"\"\n      }\n    },\n    {\n      \"column\": \"number_of_cyclist_injured\",\n      \"properties\": {\n        \"dtype\": \"number\",\n        \"std\": 759464.6444772619,\n        \"min\": 0.0,\n        \"max\": 2148091.0,\n        \"num_unique_values\": 5,\n        \"samples\": [\n          0.02795877828267052,\n          4.0,\n          0.16698992207162133\n        ],\n        \"semantic_type\": \"\",\n        \"description\": \"\"\n      }\n    },\n    {\n      \"column\": \"number_of_cyclist_killed\",\n      \"properties\": {\n        \"dtype\": \"number\",\n        \"std\": 759464.7547751688,\n        \"min\": 0.0,\n        \"max\": 2148091.0,\n        \"num_unique_values\": 5,\n        \"samples\": [\n          0.00012057217315281336,\n          2.0,\n          0.011022193579832012\n        ],\n        \"semantic_type\": \"\",\n        \"description\": \"\"\n      }\n    },\n    {\n      \"column\": \"number_of_motorist_injured\",\n      \"properties\": {\n        \"dtype\": \"number\",\n        \"std\": 759462.6392892698,\n        \"min\": 0.0,\n        \"max\": 2148091.0,\n        \"num_unique_values\": 5,\n        \"samples\": [\n          0.22929475520357379,\n          43.0,\n          0.669256888698567\n        ],\n        \"semantic_type\": \"\",\n        \"description\": \"\"\n      }\n    },\n    {\n      \"column\": \"number_of_motorist_killed\",\n      \"properties\": {\n        \"dtype\": \"number\",\n        \"std\": 759464.6023938038,\n        \"min\": 0.0,\n        \"max\": 2148091.0,\n        \"num_unique_values\": 5,\n        \"samples\": [\n          0.0006340513507109336,\n          5.0,\n          0.02753927418188805\n        ],\n        \"semantic_type\": \"\",\n        \"description\": \"\"\n      }\n    },\n    {\n      \"column\": \"collision_id\",\n      \"properties\": {\n        \"dtype\": \"number\",\n        \"std\": 1562594.0733303041,\n        \"min\": 22.0,\n        \"max\": 4784868.0,\n        \"num_unique_values\": 8,\n        \"samples\": [\n          3213368.470135111,\n          3710312.0,\n          2148091.0\n        ],\n        \"semantic_type\": \"\",\n        \"description\": \"\"\n      }\n    }\n  ]\n}"
            }
          },
          "metadata": {},
          "execution_count": 9
        }
      ],
      "source": [
        "# TODO: Describe the data using the describe function of pandas\n",
        "desc_stats = data.describe()\n",
        "desc_stats"
      ]
    },
    {
      "cell_type": "code",
      "source": [
        "\n",
        "# Calculate statistics excluding null values\n",
        "average_injured = data['number_of_persons_injured'].dropna().mean()\n",
        "print(f\"Average number of persons injured: {average_injured:.3f}\")\n",
        "\n",
        "max_injured = data['number_of_persons_injured'].dropna().max()\n",
        "print(f\"Maximum number of persons injured: {max_injured:.1f}\")\n",
        "\n",
        "average_killed = data['number_of_persons_killed'].dropna().mean()\n",
        "print(f\"Average number of persons killed: {average_killed:.5f}\")\n",
        "\n",
        "max_killed = data['number_of_persons_killed'].dropna().max()\n",
        "print(f\"Maximum number of persons killed: {max_killed:.1f}\")"
      ],
      "metadata": {
        "colab": {
          "base_uri": "https://localhost:8080/"
        },
        "id": "WPcoTX20Sndr",
        "outputId": "67c8f7c7-d5d2-457f-bab2-89cc4b1e9065"
      },
      "execution_count": 10,
      "outputs": [
        {
          "output_type": "stream",
          "name": "stdout",
          "text": [
            "Average number of persons injured: 0.320\n",
            "Maximum number of persons injured: 43.0\n",
            "Average number of persons killed: 0.00154\n",
            "Maximum number of persons killed: 8.0\n"
          ]
        }
      ]
    },
    {
      "cell_type": "markdown",
      "source": [
        "The information above is currently formatted in scientific notation. Need a refresher? [Review how to analyze and convert to and from scientific notation here!](https://www.mathsisfun.com/numbers/scientific-notation.html)\n",
        "\n",
        "1. Latitude & Longitude: The latitude and longitude indicate where the crashes are occurring. However, there are some data points with latitude and longitude values of 0, which is likely due to missing or inaccurate data.\n",
        "\n",
        "2. Number of Persons Injured: On average, each crash has around 0.305 injuries. The maximum number of injuries in a single crash is 43.\n",
        "\n",
        "3. Number of Persons Killed: Fatalities are rare, with an average of 0.00146 deaths per crash. The maximum number of deaths in one crash is 8.\n",
        "\n",
        "4. Number of Pedestrians, Cyclists, and Motorists Injured/Killed: These columns provide a breakdown of the injuries and fatalities by type of individual involved.\n",
        "\n",
        "5. Collision ID: This is a unique identifier for each crash."
      ],
      "metadata": {
        "id": "TS4P8nxXeE67"
      }
    },
    {
      "cell_type": "markdown",
      "source": [
        "\n",
        "\n",
        "---\n",
        "\n"
      ],
      "metadata": {
        "id": "r60jw9F1HHKU"
      }
    },
    {
      "cell_type": "markdown",
      "metadata": {
        "id": "Z3NohCaoZPd6"
      },
      "source": [
        "##<font color='crimson'> **Milestone #2 - Data Ethics, Pre-Processing, and Exploration** </font>\n",
        "GOAL: The main goal of this milestone is to assess the dataset, find missing values, and decide what to do with those missing data points."
      ]
    },
    {
      "cell_type": "markdown",
      "metadata": {
        "id": "ksvQoYszUTyP"
      },
      "source": [
        "**Step 1:**\n",
        "Before we begin assessing our data for missing values, it is important that we understand the ethical implications surrounding data processing. To best prepare yourself for this module, review one or more of the following resources:\n",
        "- [Data Science Ethics Flashcard Video Series](https://youtube.com/playlist?list=PLNs9ZO9jGtUB7XTjXy-ttoo2QSLld9SrV&feature=shared)\n",
        "- [What Do I Need to Understand about Data Ethics?](https://www.youtube.com/watch?v=Efy8htCDueE)\n",
        "-[Introduction to Data Cleaning](https://www.youtube.com/watch?v=t8WkoGLkdTk)\n",
        "\n",
        "**TO DO:** Based on the resources above and outside knowledge, what are some potential bias issues related to the availability of data from well-resourced communities as compared to under-resourced communities? How might bias show up in our dataset?\n",
        "\n",
        "> Answer here:\n",
        "\n"
      ]
    },
    {
      "cell_type": "markdown",
      "metadata": {
        "id": "A1uBbf33ZPd6"
      },
      "source": [
        "**Step 2:**\n",
        "Check the dataset for missing values.\n"
      ]
    },
    {
      "cell_type": "code",
      "source": [
        "#TODO: Leverage the isnull() and sum() functions to find the number of missing values in each column\n",
        "missing_values = data.isnull().sum()\n",
        "\n",
        "#TODO: Turn the missing value counts into percentages\n",
        "missing_values_percentage = (missing_values / len(data)) * 100\n",
        "\n",
        "#TODO: Return counts and percentages of missing values in each column\n",
        "missing_data = pd.DataFrame({'Missing Values': missing_values, 'Percentage (%)': missing_values_percentage})\n",
        "missing_data.sort_values(by='Percentage (%)', ascending=False)"
      ],
      "metadata": {
        "id": "D5UTO86_jZkF",
        "colab": {
          "base_uri": "https://localhost:8080/",
          "height": 958
        },
        "outputId": "a7b4120b-5d71-453f-eb09-1ffc836ac69b"
      },
      "execution_count": 11,
      "outputs": [
        {
          "output_type": "execute_result",
          "data": {
            "text/plain": [
              "                               Missing Values  Percentage (%)\n",
              "vehicle_type_code_5                   2138778       99.566452\n",
              "contributing_factor_vehicle_5         2138482       99.552673\n",
              "vehicle_type_code_4                   2114154       98.420132\n",
              "contributing_factor_vehicle_4         2112892       98.361382\n",
              "vehicle_type_code_3                   1999193       93.068357\n",
              "contributing_factor_vehicle_3         1993364       92.797000\n",
              "cross_street_name                     1779075       82.821212\n",
              "off_street_name                        819046       38.129018\n",
              "zip_code                               666095       31.008696\n",
              "borough                                665832       30.996452\n",
              "on_street_name                         461389       21.479025\n",
              "vehicle_type_code2                     421017       19.599589\n",
              "contributing_factor_vehicle_2          338952       15.779220\n",
              "location                               239562       11.152321\n",
              "longitude                              239562       11.152321\n",
              "latitude                               239562       11.152321\n",
              "vehicle_type_code1                      14928        0.694943\n",
              "contributing_factor_vehicle_1            7307        0.340162\n",
              "number_of_persons_killed                   31        0.001443\n",
              "number_of_persons_injured                  18        0.000838\n",
              "collision_id                                0        0.000000\n",
              "crash_date                                  0        0.000000\n",
              "number_of_motorist_killed                   0        0.000000\n",
              "number_of_motorist_injured                  0        0.000000\n",
              "number_of_cyclist_killed                    0        0.000000\n",
              "crash_time                                  0        0.000000\n",
              "number_of_pedestrians_killed                0        0.000000\n",
              "number_of_pedestrians_injured               0        0.000000\n",
              "number_of_cyclist_injured                   0        0.000000"
            ],
            "text/html": [
              "\n",
              "  <div id=\"df-a2ab5e1b-7f9d-4440-8d91-ae8df6ff8b59\" class=\"colab-df-container\">\n",
              "    <div>\n",
              "<style scoped>\n",
              "    .dataframe tbody tr th:only-of-type {\n",
              "        vertical-align: middle;\n",
              "    }\n",
              "\n",
              "    .dataframe tbody tr th {\n",
              "        vertical-align: top;\n",
              "    }\n",
              "\n",
              "    .dataframe thead th {\n",
              "        text-align: right;\n",
              "    }\n",
              "</style>\n",
              "<table border=\"1\" class=\"dataframe\">\n",
              "  <thead>\n",
              "    <tr style=\"text-align: right;\">\n",
              "      <th></th>\n",
              "      <th>Missing Values</th>\n",
              "      <th>Percentage (%)</th>\n",
              "    </tr>\n",
              "  </thead>\n",
              "  <tbody>\n",
              "    <tr>\n",
              "      <th>vehicle_type_code_5</th>\n",
              "      <td>2138778</td>\n",
              "      <td>99.566452</td>\n",
              "    </tr>\n",
              "    <tr>\n",
              "      <th>contributing_factor_vehicle_5</th>\n",
              "      <td>2138482</td>\n",
              "      <td>99.552673</td>\n",
              "    </tr>\n",
              "    <tr>\n",
              "      <th>vehicle_type_code_4</th>\n",
              "      <td>2114154</td>\n",
              "      <td>98.420132</td>\n",
              "    </tr>\n",
              "    <tr>\n",
              "      <th>contributing_factor_vehicle_4</th>\n",
              "      <td>2112892</td>\n",
              "      <td>98.361382</td>\n",
              "    </tr>\n",
              "    <tr>\n",
              "      <th>vehicle_type_code_3</th>\n",
              "      <td>1999193</td>\n",
              "      <td>93.068357</td>\n",
              "    </tr>\n",
              "    <tr>\n",
              "      <th>contributing_factor_vehicle_3</th>\n",
              "      <td>1993364</td>\n",
              "      <td>92.797000</td>\n",
              "    </tr>\n",
              "    <tr>\n",
              "      <th>cross_street_name</th>\n",
              "      <td>1779075</td>\n",
              "      <td>82.821212</td>\n",
              "    </tr>\n",
              "    <tr>\n",
              "      <th>off_street_name</th>\n",
              "      <td>819046</td>\n",
              "      <td>38.129018</td>\n",
              "    </tr>\n",
              "    <tr>\n",
              "      <th>zip_code</th>\n",
              "      <td>666095</td>\n",
              "      <td>31.008696</td>\n",
              "    </tr>\n",
              "    <tr>\n",
              "      <th>borough</th>\n",
              "      <td>665832</td>\n",
              "      <td>30.996452</td>\n",
              "    </tr>\n",
              "    <tr>\n",
              "      <th>on_street_name</th>\n",
              "      <td>461389</td>\n",
              "      <td>21.479025</td>\n",
              "    </tr>\n",
              "    <tr>\n",
              "      <th>vehicle_type_code2</th>\n",
              "      <td>421017</td>\n",
              "      <td>19.599589</td>\n",
              "    </tr>\n",
              "    <tr>\n",
              "      <th>contributing_factor_vehicle_2</th>\n",
              "      <td>338952</td>\n",
              "      <td>15.779220</td>\n",
              "    </tr>\n",
              "    <tr>\n",
              "      <th>location</th>\n",
              "      <td>239562</td>\n",
              "      <td>11.152321</td>\n",
              "    </tr>\n",
              "    <tr>\n",
              "      <th>longitude</th>\n",
              "      <td>239562</td>\n",
              "      <td>11.152321</td>\n",
              "    </tr>\n",
              "    <tr>\n",
              "      <th>latitude</th>\n",
              "      <td>239562</td>\n",
              "      <td>11.152321</td>\n",
              "    </tr>\n",
              "    <tr>\n",
              "      <th>vehicle_type_code1</th>\n",
              "      <td>14928</td>\n",
              "      <td>0.694943</td>\n",
              "    </tr>\n",
              "    <tr>\n",
              "      <th>contributing_factor_vehicle_1</th>\n",
              "      <td>7307</td>\n",
              "      <td>0.340162</td>\n",
              "    </tr>\n",
              "    <tr>\n",
              "      <th>number_of_persons_killed</th>\n",
              "      <td>31</td>\n",
              "      <td>0.001443</td>\n",
              "    </tr>\n",
              "    <tr>\n",
              "      <th>number_of_persons_injured</th>\n",
              "      <td>18</td>\n",
              "      <td>0.000838</td>\n",
              "    </tr>\n",
              "    <tr>\n",
              "      <th>collision_id</th>\n",
              "      <td>0</td>\n",
              "      <td>0.000000</td>\n",
              "    </tr>\n",
              "    <tr>\n",
              "      <th>crash_date</th>\n",
              "      <td>0</td>\n",
              "      <td>0.000000</td>\n",
              "    </tr>\n",
              "    <tr>\n",
              "      <th>number_of_motorist_killed</th>\n",
              "      <td>0</td>\n",
              "      <td>0.000000</td>\n",
              "    </tr>\n",
              "    <tr>\n",
              "      <th>number_of_motorist_injured</th>\n",
              "      <td>0</td>\n",
              "      <td>0.000000</td>\n",
              "    </tr>\n",
              "    <tr>\n",
              "      <th>number_of_cyclist_killed</th>\n",
              "      <td>0</td>\n",
              "      <td>0.000000</td>\n",
              "    </tr>\n",
              "    <tr>\n",
              "      <th>crash_time</th>\n",
              "      <td>0</td>\n",
              "      <td>0.000000</td>\n",
              "    </tr>\n",
              "    <tr>\n",
              "      <th>number_of_pedestrians_killed</th>\n",
              "      <td>0</td>\n",
              "      <td>0.000000</td>\n",
              "    </tr>\n",
              "    <tr>\n",
              "      <th>number_of_pedestrians_injured</th>\n",
              "      <td>0</td>\n",
              "      <td>0.000000</td>\n",
              "    </tr>\n",
              "    <tr>\n",
              "      <th>number_of_cyclist_injured</th>\n",
              "      <td>0</td>\n",
              "      <td>0.000000</td>\n",
              "    </tr>\n",
              "  </tbody>\n",
              "</table>\n",
              "</div>\n",
              "    <div class=\"colab-df-buttons\">\n",
              "\n",
              "  <div class=\"colab-df-container\">\n",
              "    <button class=\"colab-df-convert\" onclick=\"convertToInteractive('df-a2ab5e1b-7f9d-4440-8d91-ae8df6ff8b59')\"\n",
              "            title=\"Convert this dataframe to an interactive table.\"\n",
              "            style=\"display:none;\">\n",
              "\n",
              "  <svg xmlns=\"http://www.w3.org/2000/svg\" height=\"24px\" viewBox=\"0 -960 960 960\">\n",
              "    <path d=\"M120-120v-720h720v720H120Zm60-500h600v-160H180v160Zm220 220h160v-160H400v160Zm0 220h160v-160H400v160ZM180-400h160v-160H180v160Zm440 0h160v-160H620v160ZM180-180h160v-160H180v160Zm440 0h160v-160H620v160Z\"/>\n",
              "  </svg>\n",
              "    </button>\n",
              "\n",
              "  <style>\n",
              "    .colab-df-container {\n",
              "      display:flex;\n",
              "      gap: 12px;\n",
              "    }\n",
              "\n",
              "    .colab-df-convert {\n",
              "      background-color: #E8F0FE;\n",
              "      border: none;\n",
              "      border-radius: 50%;\n",
              "      cursor: pointer;\n",
              "      display: none;\n",
              "      fill: #1967D2;\n",
              "      height: 32px;\n",
              "      padding: 0 0 0 0;\n",
              "      width: 32px;\n",
              "    }\n",
              "\n",
              "    .colab-df-convert:hover {\n",
              "      background-color: #E2EBFA;\n",
              "      box-shadow: 0px 1px 2px rgba(60, 64, 67, 0.3), 0px 1px 3px 1px rgba(60, 64, 67, 0.15);\n",
              "      fill: #174EA6;\n",
              "    }\n",
              "\n",
              "    .colab-df-buttons div {\n",
              "      margin-bottom: 4px;\n",
              "    }\n",
              "\n",
              "    [theme=dark] .colab-df-convert {\n",
              "      background-color: #3B4455;\n",
              "      fill: #D2E3FC;\n",
              "    }\n",
              "\n",
              "    [theme=dark] .colab-df-convert:hover {\n",
              "      background-color: #434B5C;\n",
              "      box-shadow: 0px 1px 3px 1px rgba(0, 0, 0, 0.15);\n",
              "      filter: drop-shadow(0px 1px 2px rgba(0, 0, 0, 0.3));\n",
              "      fill: #FFFFFF;\n",
              "    }\n",
              "  </style>\n",
              "\n",
              "    <script>\n",
              "      const buttonEl =\n",
              "        document.querySelector('#df-a2ab5e1b-7f9d-4440-8d91-ae8df6ff8b59 button.colab-df-convert');\n",
              "      buttonEl.style.display =\n",
              "        google.colab.kernel.accessAllowed ? 'block' : 'none';\n",
              "\n",
              "      async function convertToInteractive(key) {\n",
              "        const element = document.querySelector('#df-a2ab5e1b-7f9d-4440-8d91-ae8df6ff8b59');\n",
              "        const dataTable =\n",
              "          await google.colab.kernel.invokeFunction('convertToInteractive',\n",
              "                                                    [key], {});\n",
              "        if (!dataTable) return;\n",
              "\n",
              "        const docLinkHtml = 'Like what you see? Visit the ' +\n",
              "          '<a target=\"_blank\" href=https://colab.research.google.com/notebooks/data_table.ipynb>data table notebook</a>'\n",
              "          + ' to learn more about interactive tables.';\n",
              "        element.innerHTML = '';\n",
              "        dataTable['output_type'] = 'display_data';\n",
              "        await google.colab.output.renderOutput(dataTable, element);\n",
              "        const docLink = document.createElement('div');\n",
              "        docLink.innerHTML = docLinkHtml;\n",
              "        element.appendChild(docLink);\n",
              "      }\n",
              "    </script>\n",
              "  </div>\n",
              "\n",
              "\n",
              "<div id=\"df-81ea62db-feef-4dae-8e6a-bd037373a1f6\">\n",
              "  <button class=\"colab-df-quickchart\" onclick=\"quickchart('df-81ea62db-feef-4dae-8e6a-bd037373a1f6')\"\n",
              "            title=\"Suggest charts\"\n",
              "            style=\"display:none;\">\n",
              "\n",
              "<svg xmlns=\"http://www.w3.org/2000/svg\" height=\"24px\"viewBox=\"0 0 24 24\"\n",
              "     width=\"24px\">\n",
              "    <g>\n",
              "        <path d=\"M19 3H5c-1.1 0-2 .9-2 2v14c0 1.1.9 2 2 2h14c1.1 0 2-.9 2-2V5c0-1.1-.9-2-2-2zM9 17H7v-7h2v7zm4 0h-2V7h2v10zm4 0h-2v-4h2v4z\"/>\n",
              "    </g>\n",
              "</svg>\n",
              "  </button>\n",
              "\n",
              "<style>\n",
              "  .colab-df-quickchart {\n",
              "      --bg-color: #E8F0FE;\n",
              "      --fill-color: #1967D2;\n",
              "      --hover-bg-color: #E2EBFA;\n",
              "      --hover-fill-color: #174EA6;\n",
              "      --disabled-fill-color: #AAA;\n",
              "      --disabled-bg-color: #DDD;\n",
              "  }\n",
              "\n",
              "  [theme=dark] .colab-df-quickchart {\n",
              "      --bg-color: #3B4455;\n",
              "      --fill-color: #D2E3FC;\n",
              "      --hover-bg-color: #434B5C;\n",
              "      --hover-fill-color: #FFFFFF;\n",
              "      --disabled-bg-color: #3B4455;\n",
              "      --disabled-fill-color: #666;\n",
              "  }\n",
              "\n",
              "  .colab-df-quickchart {\n",
              "    background-color: var(--bg-color);\n",
              "    border: none;\n",
              "    border-radius: 50%;\n",
              "    cursor: pointer;\n",
              "    display: none;\n",
              "    fill: var(--fill-color);\n",
              "    height: 32px;\n",
              "    padding: 0;\n",
              "    width: 32px;\n",
              "  }\n",
              "\n",
              "  .colab-df-quickchart:hover {\n",
              "    background-color: var(--hover-bg-color);\n",
              "    box-shadow: 0 1px 2px rgba(60, 64, 67, 0.3), 0 1px 3px 1px rgba(60, 64, 67, 0.15);\n",
              "    fill: var(--button-hover-fill-color);\n",
              "  }\n",
              "\n",
              "  .colab-df-quickchart-complete:disabled,\n",
              "  .colab-df-quickchart-complete:disabled:hover {\n",
              "    background-color: var(--disabled-bg-color);\n",
              "    fill: var(--disabled-fill-color);\n",
              "    box-shadow: none;\n",
              "  }\n",
              "\n",
              "  .colab-df-spinner {\n",
              "    border: 2px solid var(--fill-color);\n",
              "    border-color: transparent;\n",
              "    border-bottom-color: var(--fill-color);\n",
              "    animation:\n",
              "      spin 1s steps(1) infinite;\n",
              "  }\n",
              "\n",
              "  @keyframes spin {\n",
              "    0% {\n",
              "      border-color: transparent;\n",
              "      border-bottom-color: var(--fill-color);\n",
              "      border-left-color: var(--fill-color);\n",
              "    }\n",
              "    20% {\n",
              "      border-color: transparent;\n",
              "      border-left-color: var(--fill-color);\n",
              "      border-top-color: var(--fill-color);\n",
              "    }\n",
              "    30% {\n",
              "      border-color: transparent;\n",
              "      border-left-color: var(--fill-color);\n",
              "      border-top-color: var(--fill-color);\n",
              "      border-right-color: var(--fill-color);\n",
              "    }\n",
              "    40% {\n",
              "      border-color: transparent;\n",
              "      border-right-color: var(--fill-color);\n",
              "      border-top-color: var(--fill-color);\n",
              "    }\n",
              "    60% {\n",
              "      border-color: transparent;\n",
              "      border-right-color: var(--fill-color);\n",
              "    }\n",
              "    80% {\n",
              "      border-color: transparent;\n",
              "      border-right-color: var(--fill-color);\n",
              "      border-bottom-color: var(--fill-color);\n",
              "    }\n",
              "    90% {\n",
              "      border-color: transparent;\n",
              "      border-bottom-color: var(--fill-color);\n",
              "    }\n",
              "  }\n",
              "</style>\n",
              "\n",
              "  <script>\n",
              "    async function quickchart(key) {\n",
              "      const quickchartButtonEl =\n",
              "        document.querySelector('#' + key + ' button');\n",
              "      quickchartButtonEl.disabled = true;  // To prevent multiple clicks.\n",
              "      quickchartButtonEl.classList.add('colab-df-spinner');\n",
              "      try {\n",
              "        const charts = await google.colab.kernel.invokeFunction(\n",
              "            'suggestCharts', [key], {});\n",
              "      } catch (error) {\n",
              "        console.error('Error during call to suggestCharts:', error);\n",
              "      }\n",
              "      quickchartButtonEl.classList.remove('colab-df-spinner');\n",
              "      quickchartButtonEl.classList.add('colab-df-quickchart-complete');\n",
              "    }\n",
              "    (() => {\n",
              "      let quickchartButtonEl =\n",
              "        document.querySelector('#df-81ea62db-feef-4dae-8e6a-bd037373a1f6 button');\n",
              "      quickchartButtonEl.style.display =\n",
              "        google.colab.kernel.accessAllowed ? 'block' : 'none';\n",
              "    })();\n",
              "  </script>\n",
              "</div>\n",
              "\n",
              "    </div>\n",
              "  </div>\n"
            ],
            "application/vnd.google.colaboratory.intrinsic+json": {
              "type": "dataframe",
              "summary": "{\n  \"name\": \"missing_data\",\n  \"rows\": 29,\n  \"fields\": [\n    {\n      \"column\": \"Missing Values\",\n      \"properties\": {\n        \"dtype\": \"number\",\n        \"std\": 840733,\n        \"min\": 0,\n        \"max\": 2138778,\n        \"num_unique_values\": 19,\n        \"samples\": [\n          2138778,\n          1993364,\n          421017\n        ],\n        \"semantic_type\": \"\",\n        \"description\": \"\"\n      }\n    },\n    {\n      \"column\": \"Percentage (%)\",\n      \"properties\": {\n        \"dtype\": \"number\",\n        \"std\": 39.13862271912656,\n        \"min\": 0.0,\n        \"max\": 99.56645225923855,\n        \"num_unique_values\": 19,\n        \"samples\": [\n          99.56645225923855,\n          92.79699975466589,\n          19.5995886580224\n        ],\n        \"semantic_type\": \"\",\n        \"description\": \"\"\n      }\n    }\n  ]\n}"
            }
          },
          "metadata": {},
          "execution_count": 11
        }
      ]
    },
    {
      "cell_type": "markdown",
      "source": [
        "Here's an overview of the missing values in the dataset:\n",
        "\n",
        "Columns like VEHICLE TYPE CODE 5, CONTRIBUTING FACTOR VEHICLE 5, VEHICLE TYPE CODE 4, and so on have a high percentage of missing values. This is expected since not all crashes involve multiple vehicles or factors.\n",
        "\n",
        "OFF STREET NAME and CROSS STREET NAME have significant missing values. This could be due to crashes occurring in locations where these details aren't applicable or weren't recorded.\n",
        "\n",
        "ZIP CODE, BOROUGH, and ON STREET NAME also have missing values. This might be due to incomplete data entry or crashes occurring in areas where these specifics aren't easily determinable.\n",
        "\n",
        "LOCATION, LATITUDE, and LONGITUDE have the same count of missing values, indicating that when one is missing, the others are likely missing as well."
      ],
      "metadata": {
        "id": "BnkgVJLpkTyI"
      }
    },
    {
      "cell_type": "markdown",
      "source": [
        "**Step 3:** Create a bar chart to display the top 10 contributing factors (e.g. backing up unsafely, unsafe lane changing, etc.) to crashes within the dataset."
      ],
      "metadata": {
        "id": "3oi7hU-YxKEJ"
      }
    },
    {
      "cell_type": "code",
      "source": [
        "#TODO: Plot a Bar Chart\n",
        "\n",
        "top_factors = data['contributing_factor_vehicle_1'].value_counts().head(10)\n",
        "\n",
        "\n",
        "plt.figure(figsize=(12, 7))\n",
        "# TODO: Plotting the top contributing factors, fill in x as the index field of the variable 'top_factors'\n",
        "sns.barplot(x=top_factors.index, y=top_factors.values, palette=\"magma\")\n",
        "plt.title('Top 10 Contributing Factors to crashes', fontsize=16)\n",
        "plt.xlabel('Contributing Factors', fontsize=14)\n",
        "plt.ylabel('Number of Crashes', fontsize=14)\n",
        "plt.xticks(rotation=45, ha='right')\n",
        "plt.tight_layout()\n",
        "plt.show()\n"
      ],
      "metadata": {
        "id": "sOAZEE5jxxKt",
        "colab": {
          "base_uri": "https://localhost:8080/",
          "height": 794
        },
        "outputId": "847cf670-3d9f-41f5-cb91-7e7e75b39937"
      },
      "execution_count": 12,
      "outputs": [
        {
          "output_type": "stream",
          "name": "stderr",
          "text": [
            "<ipython-input-12-12fe55e9027c>:8: FutureWarning: \n",
            "\n",
            "Passing `palette` without assigning `hue` is deprecated and will be removed in v0.14.0. Assign the `x` variable to `hue` and set `legend=False` for the same effect.\n",
            "\n",
            "  sns.barplot(x=top_factors.index, y=top_factors.values, palette=\"magma\")\n"
          ]
        },
        {
          "output_type": "display_data",
          "data": {
            "text/plain": [
              "<Figure size 1200x700 with 1 Axes>"
            ],
            "image/png": "[encoded data removed]"
          },
          "metadata": {}
        }
      ]
    },
    {
      "cell_type": "markdown",
      "source": [
        "**TO DO:** Besides for \"Unspecified,\" what are the top 3 contributing factors that cause the most crashes?\n",
        "\n",
        "> *  Driver Inattention/Distraction\n",
        "> *  Failure to Yield Right-of-Way\n",
        "> *  Following Too Closely"
      ],
      "metadata": {
        "id": "f8XmI5o7d2Ii"
      }
    },
    {
      "cell_type": "markdown",
      "source": [
        "**TO DO:** What recommendations would you make to new and current drivers after assessing the above data?\n",
        "\n",
        "> * Avoid using phone while driving. If you need to use your phone, pull over safely first.\n",
        "> * Be aware of and follow all traffic signs, signals, and right-of-way rules. Take extra caution at intersections and when merging.\n",
        "> * Maintain at least 3 seconds of following distance between you and the vehicle ahead. Increase this distance in poor weather conditions or when driving at higher speeds.\n",
        "\n"
      ],
      "metadata": {
        "id": "KJNcc4SIeVUO"
      }
    },
    {
      "cell_type": "markdown",
      "source": [
        "**Step 4:** Now, let's create another bar chart to determine which vehicle types were involved in the most crashes."
      ],
      "metadata": {
        "id": "t7Mxj6IJyf8-"
      }
    },
    {
      "cell_type": "code",
      "source": [
        "print(data.columns)"
      ],
      "metadata": {
        "id": "WCob6LUsCbHr",
        "outputId": "a69629d8-d56f-4075-c52d-768cacf0709b",
        "colab": {
          "base_uri": "https://localhost:8080/"
        }
      },
      "execution_count": 13,
      "outputs": [
        {
          "output_type": "stream",
          "name": "stdout",
          "text": [
            "Index(['crash_date', 'crash_time', 'borough', 'zip_code', 'latitude',\n",
            "       'longitude', 'location', 'on_street_name', 'off_street_name',\n",
            "       'cross_street_name', 'number_of_persons_injured',\n",
            "       'number_of_persons_killed', 'number_of_pedestrians_injured',\n",
            "       'number_of_pedestrians_killed', 'number_of_cyclist_injured',\n",
            "       'number_of_cyclist_killed', 'number_of_motorist_injured',\n",
            "       'number_of_motorist_killed', 'contributing_factor_vehicle_1',\n",
            "       'contributing_factor_vehicle_2', 'contributing_factor_vehicle_3',\n",
            "       'contributing_factor_vehicle_4', 'contributing_factor_vehicle_5',\n",
            "       'collision_id', 'vehicle_type_code1', 'vehicle_type_code2',\n",
            "       'vehicle_type_code_3', 'vehicle_type_code_4', 'vehicle_type_code_5'],\n",
            "      dtype='object')\n"
          ]
        }
      ]
    },
    {
      "cell_type": "code",
      "source": [
        "# Determine the top vehicle types involved in crashes\n",
        "top_vehicle_types = data['vehicle_type_code1'].value_counts().head(10)\n",
        "\n",
        "# Plotting the top vehicle types\n",
        "plt.figure(figsize=(12, 7))\n",
        "sns.barplot(x=top_vehicle_types.index, y=top_vehicle_types.values, palette=\"cividis\")\n",
        "plt.title('Top 10 Vehicle Types Involved in crashes', fontsize=16)\n",
        "plt.xlabel('Vehicle Type', fontsize=14)\n",
        "plt.ylabel('Number of crashes', fontsize=14)\n",
        "plt.xticks(rotation=45, ha='right')\n",
        "plt.tight_layout()\n",
        "plt.show()\n"
      ],
      "metadata": {
        "id": "iCQq3tvAzCVP",
        "colab": {
          "base_uri": "https://localhost:8080/",
          "height": 794
        },
        "outputId": "95a0cc6f-da4d-4960-e6ac-abf214a5933e"
      },
      "execution_count": 14,
      "outputs": [
        {
          "output_type": "stream",
          "name": "stderr",
          "text": [
            "<ipython-input-14-e8f025f4095c>:6: FutureWarning: \n",
            "\n",
            "Passing `palette` without assigning `hue` is deprecated and will be removed in v0.14.0. Assign the `x` variable to `hue` and set `legend=False` for the same effect.\n",
            "\n",
            "  sns.barplot(x=top_vehicle_types.index, y=top_vehicle_types.values, palette=\"cividis\")\n"
          ]
        },
        {
          "output_type": "display_data",
          "data": {
            "text/plain": [
              "<Figure size 1200x700 with 1 Axes>"
            ],
            "image/png": "[encoded data removed]"
          },
          "metadata": {}
        }
      ]
    },
    {
      "cell_type": "markdown",
      "source": [
        "**TO DO:** What are the top 3 vehicles that were most involved in crashes?\n",
        "\n",
        "\n",
        "> *   Sedan\n",
        "> *   Station Wagon/Sport Utility Vehicles\n",
        "> *   Passenger Vehicle\n",
        "\n",
        "\n",
        "\n",
        "\n",
        "\n"
      ],
      "metadata": {
        "id": "GDZX7-jvfAkW"
      }
    },
    {
      "cell_type": "markdown",
      "source": [
        "**TO DO:** Why do you think that \"Sedan[s],\" \"Station Wagon[s],\" and \"Passenger Vehicle[s]\" are involved in a larger number of crashes, injuries, and deaths when compared to the rest of the vehicles? (Think outside the box!)\n",
        "\n",
        "\n",
        "> * Firstly, this is the most commonly driven vehicle.\n",
        "> * Secondly, as these vehicles has more occupancy there is more distraction to the driver while driving.\n",
        "\n",
        "\n",
        "\n",
        "\n"
      ],
      "metadata": {
        "id": "wVDx-bhefg_3"
      }
    },
    {
      "cell_type": "markdown",
      "source": [
        "**TO DO:** Review the x-axis of the bar chart you created above. </br>\n",
        "1) What do you notice? </br>\n",
        "2) What would you recommend we do to improve the bar chart, based on the x-axis (horizontal axis) and why? </br>\n",
        "3) What recommendation would you make to those who are collecting and/or inputting data into this dataset?\n",
        "\n",
        "\n",
        "> *  1) Some categories seem redundant or overlapping (For eg. Taxi vs. TAXI)\n",
        "> *  2) Inconsistent capitalization (For eg. Sedan vs. PASSENGER VEHICLE)\n",
        "> *  3) There is no standard vehicle type classification followed\n",
        "\n",
        "\n",
        "\n",
        "\n"
      ],
      "metadata": {
        "id": "tgft4X1JRP4I"
      }
    },
    {
      "cell_type": "markdown",
      "source": [
        "**Step 5:**  A DataFrame is a two-dimensional and potentially heterogeneous tabular data structure with labeled axes (rows and columns). DataFrames allow for storing, manipulating, and retrieving data in a structured form, serving as the primary data structure for a multitude of data processing tasks. It is used with Python libraries like pandas.\n",
        "\n",
        "Let's graph the *types* of crashes within this dataset and their frequencies. Begin by aggregating your data, convert to [DataFrame](https://pandas.pydata.org/docs/reference/api/pandas.DataFrame.html) for simple plotting, and plot.\n",
        "\n"
      ],
      "metadata": {
        "id": "iBDk6ns7rWs8"
      }
    },
    {
      "cell_type": "code",
      "source": [
        "print(data.columns)"
      ],
      "metadata": {
        "id": "gxWmofMR_lxU",
        "outputId": "c64773d8-d456-4fe7-f879-ba0d5c57f4aa",
        "colab": {
          "base_uri": "https://localhost:8080/"
        }
      },
      "execution_count": 15,
      "outputs": [
        {
          "output_type": "stream",
          "name": "stdout",
          "text": [
            "Index(['crash_date', 'crash_time', 'borough', 'zip_code', 'latitude',\n",
            "       'longitude', 'location', 'on_street_name', 'off_street_name',\n",
            "       'cross_street_name', 'number_of_persons_injured',\n",
            "       'number_of_persons_killed', 'number_of_pedestrians_injured',\n",
            "       'number_of_pedestrians_killed', 'number_of_cyclist_injured',\n",
            "       'number_of_cyclist_killed', 'number_of_motorist_injured',\n",
            "       'number_of_motorist_killed', 'contributing_factor_vehicle_1',\n",
            "       'contributing_factor_vehicle_2', 'contributing_factor_vehicle_3',\n",
            "       'contributing_factor_vehicle_4', 'contributing_factor_vehicle_5',\n",
            "       'collision_id', 'vehicle_type_code1', 'vehicle_type_code2',\n",
            "       'vehicle_type_code_3', 'vehicle_type_code_4', 'vehicle_type_code_5'],\n",
            "      dtype='object')\n"
          ]
        }
      ]
    },
    {
      "cell_type": "code",
      "source": [
        "import matplotlib.pyplot as plt\n",
        "import seaborn as sns\n",
        "\n",
        "# Aggregating data - Complete for Cyclist and Motorist\n",
        "types_of_crashes = {\n",
        "    'Pedestrian Injuries': data['number_of_pedestrians_injured'].sum(),\n",
        "    'Cyclist Injuries': data['number_of_cyclist_injured'].sum(),\n",
        "    'Motorist Injuries': data['number_of_motorist_injured'].sum(),\n",
        "    'Pedestrian Deaths': data['number_of_pedestrians_killed'].sum(),\n",
        "    'Cyclist Deaths': data['number_of_cyclist_killed'].sum(),\n",
        "    'Motorist Deaths': data['number_of_motorist_killed'].sum()\n",
        "}\n",
        "\n",
        "# Converting to DataFrame for easier plotting - we want the items in the dictionary, use the items function\n",
        "crash_types_df = pd.DataFrame(list(types_of_crashes.items()), columns=['crash Type', 'Count'])\n",
        "\n",
        "# Plot\n",
        "plt.figure(figsize=(12, 7))\n",
        "sns.barplot(x='Count', y='crash Type', data=crash_types_df, palette=\"mako\")\n",
        "plt.title('Types of crashes and Their Frequencies')\n",
        "plt.xlabel('Count')\n",
        "plt.ylabel('Type of crash')\n",
        "plt.tight_layout()\n",
        "plt.show()\n"
      ],
      "metadata": {
        "id": "QUalTlGgBPO-",
        "colab": {
          "base_uri": "https://localhost:8080/",
          "height": 794
        },
        "outputId": "076bb36f-f206-45ed-9bfc-6579b1105bca"
      },
      "execution_count": 20,
      "outputs": [
        {
          "output_type": "stream",
          "name": "stderr",
          "text": [
            "<ipython-input-20-85db7ca2649c>:19: FutureWarning: \n",
            "\n",
            "Passing `palette` without assigning `hue` is deprecated and will be removed in v0.14.0. Assign the `y` variable to `hue` and set `legend=False` for the same effect.\n",
            "\n",
            "  sns.barplot(x='Count', y='crash Type', data=crash_types_df, palette=\"mako\")\n"
          ]
        },
        {
          "output_type": "display_data",
          "data": {
            "text/plain": [
              "<Figure size 1200x700 with 1 Axes>"
            ],
            "image/png": "[encoded data removed]"
          },
          "metadata": {}
        }
      ]
    },
    {
      "cell_type": "markdown",
      "source": [
        "**TO DO:** Analyze the chart above. What is a recommendation you might make to the Department of Transportation based on this data?\n",
        "\n",
        "\n",
        "> *  \n",
        "\n",
        "\n",
        "\n"
      ],
      "metadata": {
        "id": "ZnWKXa9Nfs-W"
      }
    },
    {
      "cell_type": "markdown",
      "metadata": {
        "id": "grdrqrdoZPd8"
      },
      "source": [
        "---"
      ]
    },
    {
      "cell_type": "markdown",
      "metadata": {
        "id": "BhRdCZx7ZPd8"
      },
      "source": [
        "##<font color='crimson'> **Milestone #3 - Time Series Analysis**</font>\n",
        "GOAL: The main goal of this milestone is to dive deeper into Time Series Analysis in order to better understand our data's trends over time."
      ]
    },
    {
      "cell_type": "markdown",
      "metadata": {
        "id": "-IWCx42kgXEa"
      },
      "source": [
        "**Step 1:**\n",
        "\n",
        "Before we jump into Time Series Analysis (TSA), it's important to understand the basics, including Trends, Seasonality, and Residual Components.\n",
        "\n",
        "Review one or more of the following resources and tell us what you learned about TSA!\n",
        "\n",
        "*  [Learn about Time Series patterns here](https://otexts.com/fpp2/tspatterns.html)\n",
        "* [Learn about Time Plots here](https://otexts.com/fpp2/time-plots.html)\n",
        "*[Learn how to decompose Time Series Data into Trend and Seasonality](https://machinelearningmastery.com/decompose-time-series-data-trend-seasonality/)\n"
      ]
    },
    {
      "cell_type": "markdown",
      "source": [
        "**TO DO:** Write 3-5 sentences about TSA.\n",
        "> *  \n",
        "\n",
        "\n",
        "\n",
        "\n",
        "\n"
      ],
      "metadata": {
        "id": "b70ap78mf51L"
      }
    },
    {
      "cell_type": "markdown",
      "source": [
        "**Step 2:** Let's begin by creating a chart that displays the average number of crashes per hour of the day. This will help us understand whether additional factors are contributing to crashes - i.e. rush hour, school dismissal time, night fall, etc."
      ],
      "metadata": {
        "id": "ephb1Ro-xZvV"
      }
    },
    {
      "cell_type": "code",
      "source": [
        "import matplotlib.pyplot as plt\n",
        "import seaborn as sns\n",
        "import pandas as pd\n",
        "\n",
        "# Load the dataset\n",
        "file_path = \"__________\"\n",
        "data = pd.read_csv(file_path)\n",
        "\n",
        "# Convert 'CRASH DATE' and 'CRASH TIME' to datetime\n",
        "data['CRASH DATE'] = pd.to_datetime(data['CRASH DATE'])\n",
        "data['CRASH TIME'] = __________, format='%H:%M')\n",
        "\n",
        "# Time of Day Analysis\n",
        "data['Hour of Day'] = data['CRASH TIME'].dt.hour\n",
        "\n",
        "# Group by 'Hour of Day' and calculate the average number of crashes per hour\n",
        "average_crashes_per_hour = data.groupby('Hour of Day').size() / data['Hour of Day'].nunique()\n",
        "\n",
        "# Plot the average number of crashes\n",
        "plt.figure(figsize=(12, 6))\n",
        "sns.barplot(x=__________, y=__________)\n",
        "plt.title('Average Number of crashes per Hour of Day')\n",
        "plt.xlabel('Hour of Day')\n",
        "plt.ylabel('Average Number of crashes')\n",
        "plt.xticks(range(0, 24))\n",
        "plt.show()\n",
        "\n",
        "\n"
      ],
      "metadata": {
        "id": "LhCvcjgRBPst"
      },
      "execution_count": null,
      "outputs": []
    },
    {
      "cell_type": "markdown",
      "source": [
        "**TO DO:** Which time of the day sees the most crashes? Why do you think so?\n",
        "\n",
        "> *  \n",
        "\n"
      ],
      "metadata": {
        "id": "54RyJHDngM7G"
      }
    },
    {
      "cell_type": "markdown",
      "metadata": {
        "id": "VWYnmWzltPSd"
      },
      "source": [
        "**Step 3:**\n",
        "Plot a graph to determine how COVID-19 impacted the number of crashes per month, if at all.\n"
      ]
    },
    {
      "cell_type": "code",
      "source": [
        "# Convert 'CRASH DATE' to datetime format\n",
        "data['CRASH DATE'] = pd.to_datetime(__________)\n",
        "\n",
        "# Group by month and year to get the number of crashes per month\n",
        "monthly_crashes = data.groupby(__________.dt.to_period(\"M\")).size()\n",
        "\n",
        "# Plotting the trend over time\n",
        "plt.figure(figsize=(15, 7))\n",
        "monthly_crashes.plot()\n",
        "plt.title('Number of Crashes per Month', fontsize=16)\n",
        "plt.xlabel('Date', fontsize=14)\n",
        "plt.ylabel('Number of Crashes', fontsize=14)\n",
        "plt.tight_layout()\n",
        "plt.show()"
      ],
      "metadata": {
        "id": "vnKcvOp8th_0"
      },
      "execution_count": null,
      "outputs": []
    },
    {
      "cell_type": "markdown",
      "source": [
        "**TO DO:** What does your graph tell you about the impact of COVID-19 on the number of crashes per month? Why do you think this occurred?\n",
        "\n",
        "> *  \n",
        "\n"
      ],
      "metadata": {
        "id": "II8Q3vM7gXQg"
      }
    },
    {
      "cell_type": "markdown",
      "source": [
        "**Step 4**: Apply time series decomposition to review trends, seasonality, and residuals. New to time series analysis? Review the [Time Series Flashcard video series](https://youtube.com/playlist?list=PLNs9ZO9jGtUAqd0CNKySksPJJaOqYPMvk&feature=shared) here to learn about trends, components, and further analysis!"
      ],
      "metadata": {
        "id": "1VN3xYo0aOMY"
      }
    },
    {
      "cell_type": "code",
      "source": [
        "import matplotlib.pyplot as plt\n",
        "import seaborn as sns\n",
        "from statsmodels.tsa.seasonal import seasonal_decompose\n",
        "\n",
        "# Count the number of crashes per day, group by CRASH DATE\n",
        "daily_crashes = data.groupby('__________').size()\n",
        "\n",
        "# Set plot style\n",
        "sns.set(style=\"darkgrid\")\n",
        "\n",
        "# Plot the daily crashes time series\n",
        "plt.figure(figsize=(15, 6))\n",
        "plt.plot(__________, label='Daily crashes')\n",
        "plt.title('Daily Motor Vehicle Collisions in NYC')\n",
        "plt.xlabel('__________')\n",
        "plt.ylabel('__________')\n",
        "plt.legend()\n",
        "plt.show()\n",
        "\n",
        "# Decompose the time series\n",
        "decomposition = seasonal_decompose(daily_crashes, model='additive', period=365)\n",
        "\n",
        "# Plot the decomposed components\n",
        "fig, (ax1, ax2, ax3) = plt.subplots(3, 1, figsize=(15, 12))\n",
        "decomposition.trend.plot(ax=ax1)\n",
        "ax1.set_title('Trend')\n",
        "decomposition.seasonal.plot(ax=ax2)\n",
        "ax2.set_title('__________')\n",
        "decomposition.resid.plot(__________)\n",
        "ax3.set_title('Residuals')\n",
        "plt.tight_layout()\n",
        "plt.show()"
      ],
      "metadata": {
        "id": "PFszSQ-J7P20"
      },
      "execution_count": null,
      "outputs": []
    },
    {
      "cell_type": "markdown",
      "source": [
        "The visualizations above provide valuable insights into the time series of daily motor vehicle collisions in New York City:\n",
        "\n",
        "1. Time Series Plot: This shows the number of daily crashes over time. You might observe long-term trends, seasonal patterns, or significant outliers.\n",
        "\n",
        "2. Decomposed Components:\n",
        "  \n",
        "    2.1 Trend: This graph shows the long-term trend in the data, which can indicate whether crashes are increasing, decreasing, or stable over time.\n",
        "\n",
        "    2.2 Seasonality: This reveals any regular patterns that repeat over a specific period, such as yearly. It helps identify times of the year with higher or lower crash frequencies.\n",
        "\n",
        "    2.3 Residuals: These are the irregular components that cannot be attributed to the trend or seasonality. They might include random or unpredictable fluctuations."
      ],
      "metadata": {
        "id": "f4-FdmAY7gpu"
      }
    },
    {
      "cell_type": "markdown",
      "source": [
        "**TO DO:** Based on your *trend graph*, are we seeing an increase or a decrease in crashes between 2014 and 2022?\n",
        "\n",
        "> *  \n",
        "\n",
        "\n",
        "**TO DO:** Based on your *residual graph*, in what year(s) was there a significant unpredicted fluctuation? Why do you think so?\n",
        "\n",
        "> *  "
      ],
      "metadata": {
        "id": "XaC-SbhlglHS"
      }
    },
    {
      "cell_type": "markdown",
      "metadata": {
        "id": "Jhsah2fiZPd-"
      },
      "source": [
        "---"
      ]
    },
    {
      "cell_type": "markdown",
      "metadata": {
        "id": "PQLLgAgcZPd_"
      },
      "source": [
        "##<font color='crimson'>**Milestone #4 - Geospatial Analysis**</font>\n",
        "GOAL: The main goal of this milestone is to explore geospatial aspects of the dataset and get comfortable with regional analysis and geospatial visualizations."
      ]
    },
    {
      "cell_type": "markdown",
      "metadata": {
        "id": "A1_75SdRgXhI"
      },
      "source": [
        "**Step 1:** Before beginning this Milestone, we highly recommend that you review the [NSDC Geospatial Analysis Flashcard Video series](https://www.youtube.com/playlist?list=PLNs9ZO9jGtUAX_2g1-OJp8VkmVum6DqqP) if you are new to Geospatial Analysis!\n",
        "\n",
        "Let's build a bar chart to compare and analyze the number of crashes across the five boroughs: Brooklyn (also known as Kings County), Queens, Manhattan, Bronx, and Staten Island."
      ]
    },
    {
      "cell_type": "code",
      "source": [
        "#TODO: Plot a bar chart to compare the number of crashes that occurred in each of the five boroughs.\n",
        "# Set style\n",
        "sns.set_style(\"whitegrid\")\n",
        "\n",
        "# Plotting the distribution of crashes by borough\n",
        "plt.figure(figsize=(12, 7))\n",
        "# Find the count of unique values of BOROUGHS. Hint: Use value_count function.\n",
        "borough_count = data['BOROUGH'].__________\n",
        "sns.barplot(x=__________, y=__________, palette=\"viridis\")\n",
        "plt.title('Distribution of Crashes by Borough', fontsize=16)\n",
        "plt.xlabel('Borough', fontsize=14)\n",
        "plt.ylabel('Number of Crashes', fontsize=14)\n",
        "plt.xticks(rotation=45)\n",
        "plt.tight_layout()\n",
        "plt.show()"
      ],
      "metadata": {
        "id": "STDfC8VDBAjq"
      },
      "execution_count": null,
      "outputs": []
    },
    {
      "cell_type": "markdown",
      "source": [
        "**TO DO:** Which borough has the highest number of crashes? Which borough has the lowest?\n",
        "\n",
        "> * Highest:\n",
        "> * Lowest:\n",
        "\n",
        "\n",
        "**TO DO:** Are there any reasons that you think a certain borough has a higher or lower number of crashes? What are some factors that may be causing this?\n",
        "\n",
        "> *  "
      ],
      "metadata": {
        "id": "N3qjnEBHhBKU"
      }
    },
    {
      "cell_type": "markdown",
      "metadata": {
        "id": "uRgTHDTk-0vz"
      },
      "source": [
        "**Step 2:** Heatmaps are graphical representations that use color coding to represent different values and variables. Let's leverage a heatmap to determine the most dangerous intersections in the dataset. (**Note: the below cell may take a few minutes to run**)"
      ]
    },
    {
      "cell_type": "code",
      "source": [
        "#TODO: Create a heatmap leveraging the latitude and longitude variables to determine where the most crashes are occurring\n",
        "from folium.plugins import HeatMap\n",
        "\n",
        "# Drop rows with missing latitude and longitude values\n",
        "data_geo = data.dropna(subset=['__________', '__________'])\n",
        "\n",
        "# Create a base map\n",
        "m = folium.Map(location=[40.730610, -73.935242], zoom_start=10)  # Centered around NYC\n",
        "\n",
        "# Create a heatmap\n",
        "heat_data = [[row['LATITUDE'], row['LONGITUDE']] for index, row in data_geo.iterrows()]\n",
        "HeatMap(heat_data, radius=8, max_zoom=13).add_to(m)\n",
        "\n",
        "m.save(\"Heatmap.html\")\n"
      ],
      "metadata": {
        "id": "5E4EMhdfDwE7"
      },
      "execution_count": null,
      "outputs": []
    },
    {
      "cell_type": "markdown",
      "source": [
        "**TO DO:** On the left side of your screen, you will see an icon that represents a folder or a file. Click on that icon to find the file titled \"Heatmap.html\". Click on the three dots next to your file and download your heatmap! Open the file once downloaded to see your creation.\n",
        "\n",
        "When looking at your heatmap, where do you see a concentration of crashes?\n",
        "\n",
        "\n",
        "> *  \n",
        "\n"
      ],
      "metadata": {
        "id": "M0JswfvzRqGD"
      }
    },
    {
      "cell_type": "markdown",
      "source": [
        "**Step 3:** Next, we will begin \"Severity Mapping.\" We'll plot crashes on the map and code them based on severity, distinguishing between crashes that resulted in injuries and those that led to fatalities. This will give us a visual representation of where severe crashes tend to occur. </br>\n",
        "\n",
        "You may initially want to code these incidents by using different colors, but it's important to think about your map and how accessible it is. Will a color-coded map be easy to read for everyone? Let's make a map that's inclusive for people with color blindness by also creating differently-shaped markers (squares, circles, and triangles) for crashes, injuries, and fatalities."
      ],
      "metadata": {
        "id": "33soqCswFQSM"
      }
    },
    {
      "cell_type": "code",
      "source": [
        "#TODO: Continue building your heatmap\n",
        "# Sample a subset of the data for visualization\n",
        "sample_data_severity = data_geo.sample(n=1000, random_state=42)\n",
        "\n",
        "# Create a base map\n",
        "m_severity = folium.Map(location=[40.730610, -73.935242], zoom_start=10)\n",
        "\n",
        "# Add crashes to the map with color coding and shape coding based on severity\n",
        "for index, row in sample_data_severity.iterrows():\n",
        "    if row['NUMBER OF PERSONS KILLED'] > 0:\n",
        "        color = \"_____\"  # Fatalities\n",
        "\n",
        "        folium.features.RegularPolygonMarker(\n",
        "          location=[row['________'], row['________']],\n",
        "          number_of_sides=3,\n",
        "          radius=5,\n",
        "          gradient = False,\n",
        "          color=color,\n",
        "          fill=True,\n",
        "          fill_color=color\n",
        "        ).add_to(m_severity)\n",
        "\n",
        "\n",
        "    elif row['NUMBER OF PERSONS INJURED'] > 0:\n",
        "        color = \"_____\"  # Injuries\n",
        "        folium.CircleMarker(\n",
        "          location=[row['LATITUDE'], row['LONGITUDE']],\n",
        "          radius=5,\n",
        "          color=color,\n",
        "          fill=True,\n",
        "          fill_color=color\n",
        "       ).add_to(m_severity)\n",
        "    else:\n",
        "        color = \"_____\"  # No injuries or fatalities\n",
        "        folium.features.RegularPolygonMarker(\n",
        "          location=[row['LATITUDE'], row['LONGITUDE']],\n",
        "          number_of_sides=4,\n",
        "          radius=5,\n",
        "          gradient = False,\n",
        "          color=_____,\n",
        "          fill=True,\n",
        "          fill_color=_____\n",
        "        ).add_to(m_severity)\n",
        "\n",
        "\n",
        "m_severity.save(\"severity.html\")\n"
      ],
      "metadata": {
        "id": "lnziyy5KExsS"
      },
      "execution_count": null,
      "outputs": []
    },
    {
      "cell_type": "markdown",
      "source": [
        "**TO DO:** On the left side of your screen, you will see an icon that represents a folder or a file. Follow the same steps as above to download the \"Severity.html\" file.\n",
        "\n",
        "**TO DO:** Which intersection(s) seem to be the most dangerous?\n",
        "\n",
        "> *  \n",
        "\n"
      ],
      "metadata": {
        "id": "mFWXrM6UhYuB"
      }
    },
    {
      "cell_type": "markdown",
      "metadata": {
        "id": "2sKFTgJ0gSZd"
      },
      "source": [
        "---\n",
        "---"
      ]
    },
    {
      "cell_type": "markdown",
      "source": [
        "##<font color='crimson'>  **Milestone #5 - Self-Guided Research Question**</font>\n",
        "GOAL: In this Milestone, you will be prompted to take what you’ve learned throughout this project, build your own research question, and create a visualization(s) or model(s) to support your research goals.\n"
      ],
      "metadata": {
        "id": "G3WwifeWQ-Ka"
      }
    },
    {
      "cell_type": "markdown",
      "source": [
        "You may create your visualization(s) in this Colab Notebook, or in Excel, Tableau, PowerBI, etc. Choose whichever medium you are most comfortable with! Be creative!\n",
        "\n",
        "For participants who are comfortable with advanced data science techniques, we welcome you to leverage additional datasets, if desired. We highly recommend using pre-cleaned datasets from open data sources, like Kaggle.com.\n",
        "\n",
        "If you have any questions or get stuck, please email nsdc@nebigdatahub.org with your queries. We're here to help!"
      ],
      "metadata": {
        "id": "HjwN2zRsrePc"
      }
    },
    {
      "cell_type": "markdown",
      "source": [
        "**Step 1:** Review the dataset(s) that you will be using. As you explore, [consider the research question you want to answer](https://libraries.indiana.edu/sites/default/files/Develop_a_Research_Question.pdf)! Additionally, think about [who you are telling your data's story to](https://hbr.org/2013/04/how-to-tell-a-story-with-data). Your final audience may contain a group of transportation professionals, data scientists, peers, and the general public. Think about how would you frame your analysis differently for each of these groups."
      ],
      "metadata": {
        "id": "gCLd4lziVW9R"
      }
    },
    {
      "cell_type": "markdown",
      "source": [
        "**TO DO:** List one or more research questions here that you are considering.\n",
        "\n",
        "> *  "
      ],
      "metadata": {
        "id": "0gpR0CpCh6b6"
      }
    },
    {
      "cell_type": "markdown",
      "source": [
        "**Step 2:** Now, think about what type of analysis you'd like to complete. Are you interested in looking at time series forecasting? Do you have additional maps in mind that you'd like to create? Is there a certain zip code or region you'd like to dive deeper into?\n",
        "\n",
        "If you happen to be stuck, here are some examples that you can use or can guide you in choosing your research question!\n",
        "\n",
        "**Examples:**\n",
        "- How many crashes, injuries, and/or fatalies occurred in a zip code of interest?\n",
        "- Which zip code sees the highest amount of crashes and what recommendations can you offer to help that community? Is it an underserved community?\n",
        "- Do more crashes occur in underrepresented communities? Support your conclusion.\n",
        "- Which day of the week sees the most crashes, injuries, and/or fatalities? (Hint: use the same method we used when we were analyzing the average number of crashes at different times of the day!)\n",
        "- Does the geometric features of an intersection (90 degree intersection vs skewed intersection) affect the number of crashes that occur?\n",
        "\n",
        "Be creative and think outside the box!\n",
        "\n"
      ],
      "metadata": {
        "id": "cjYJKXVtOnQ7"
      }
    },
    {
      "cell_type": "markdown",
      "source": [
        "**Step 3:** Now that you've decided on your transportation research question, [explore the various types of visualizations you can create to support your research](https://datavizcatalogue.com/). You may create visualizations in this Google Colab notebook, Excel, R, SQL, PowerBI, Tableau, etc. Choose a program you are comfortable with!\n",
        "\n",
        "You may also choose to build a model or leverage a different data science technique based on your experience level.\n",
        "\n",
        "\n",
        "\n",
        "\n",
        "\n",
        "\n",
        "\n",
        "\n"
      ],
      "metadata": {
        "id": "HZ2b-2yiUT0w"
      }
    },
    {
      "cell_type": "markdown",
      "source": [
        "**Step 4:** Consider the **accessibility** of the graphs, charts, maps, or models you are interested in building. Use the tools below to learn more!\n",
        "* How does your visualization appear to people [who may not be able to distinguish between muted colors or see your chart at all?](https://chartability.fizz.studio/)\n",
        "*[Color Contrast Checker](https://policyviz.com/2022/11/01/color-contrast-checker-in-excel/)\n",
        "*[SAS Graphics Accelerator](https://support.sas.com/software/products/graphics-accelerator/index.html)\n",
        "*[TwoTone Data Sonification Tool](https://twotone.io/about/)\n",
        "*[Making Visual Studio Accessible](https://code.visualstudio.com/docs/editor/accessibility)"
      ],
      "metadata": {
        "id": "XwJzrPP1Shfl"
      }
    },
    {
      "cell_type": "markdown",
      "source": [
        "To make visualizations more inclusive for people with color blindness, you can choose a color palette that is colorblind-friendly. `Seaborn`, a Python visualization library, provides several palettes that are designed to be perceptible by those with color vision deficiencies. Seaborn's `cubehelix` palette is a good choice, as it was designed specifically with color blindness in mind."
      ],
      "metadata": {
        "id": "Gol18r4mZL75"
      }
    },
    {
      "cell_type": "markdown",
      "source": [
        "**Step 5:** Begin your research! Give yourself plenty of time to build your visualization or model. If you have any questions along the way, please email nsdc@nebigdatahub.org or write a message in the #[tdsp-community Slack Channel](https://join.slack.com/t/nsdcorps/shared_invite/zt-1h64t1e2p-La0AgU_HhymWUEGFQEcb3w)."
      ],
      "metadata": {
        "id": "TVO8yKiiXX4L"
      }
    },
    {
      "cell_type": "markdown",
      "source": [
        "**TO DO:** List the research question(s) you've chosen and why! Maybe you chose this question because it can help a community of interest or because it is similar to research you've completed in a class setting. Share your thoughts below.\n",
        "\n",
        "> *  "
      ],
      "metadata": {
        "id": "-3M7OW67iFQO"
      }
    },
    {
      "cell_type": "markdown",
      "source": [
        "**TO DO:** Build a visualization, model, or use other statistical methods to gain insights into your data and to support your research question."
      ],
      "metadata": {
        "id": "LreRzzMPiQgB"
      }
    },
    {
      "cell_type": "code",
      "source": [
        "#TO DO: Begin creating here!"
      ],
      "metadata": {
        "id": "ny_MoMMAX5xw"
      },
      "execution_count": null,
      "outputs": []
    },
    {
      "cell_type": "markdown",
      "source": [
        "---"
      ],
      "metadata": {
        "id": "bXADl1pITV8u"
      }
    },
    {
      "cell_type": "markdown",
      "metadata": {
        "id": "UUc6Ziyr91Ni"
      },
      "source": [
        "##<font color='crimson'>**Milestone #6 - Virtual Poster Board Creation: Data Storytelling**</font>\n",
        "\n",
        "GOAL: The main goal of this milestone is to create a one page, virtual poster board to portray your research findings and recommendations! Your poster may be shared with the Department of Transportation and Federal Highway Authority."
      ]
    },
    {
      "cell_type": "markdown",
      "source": [
        "Within your poster, summarize your research question, your reasoning for selecting your data visualization or model choices, and key insights from your data analysis. You may also wish to include your outstanding research questions that could not be answered by the dataset and why.\n",
        "\n",
        "**Be sure to answer the following on your virtual poster board:** Based on your research insights, what recommendations would you share with the Department of Transportation and Federal Highway Authority to make roads safer for vulnerable road users? Why?\n",
        "\n",
        "**Additionally, be sure to cite all relevant sources that you referred to throughout this project on your poster board (MLA or APA citation preferred). List acknowlegdments if you received any support from mentors, professors, professionals, etc. throughout your journey.**"
      ],
      "metadata": {
        "id": "dSJWPQririQr"
      }
    },
    {
      "cell_type": "markdown",
      "metadata": {
        "id": "_Q6F_EKh97En"
      },
      "source": [
        "\n",
        "\n",
        "\n",
        " Please use the following resources to get started!\n",
        "\n",
        "\n",
        "*   [Virtual Poster Board Template](https://nebigdatahub.org/wp-content/uploads/2024/01/Copy-of-dsi-poster.ppt-48-×-36-in.pdf) - Your one-page, virtual poster may be created in PowerPoint, Google Slides, Canva, etc. Choose what you are most comfortable with!\n",
        "* [ Data Storytelling: How to Effectively Tell a Story with Data](https://online.hbs.edu/blog/post/data-storytelling)\n",
        "\n",
        "* [  Consider how your visualization(s) might appear to people with varying abilities ](https://chartability.fizz.studio/)\n",
        "*  [Understand your audience for an optimal presentation](https://hbr.org/2013/04/how-to-tell-a-story-with-data)\n",
        "\n",
        "\n",
        "Once completed, please use the [following TDSP Submission Form](https://docs.google.com/forms/d/e/1FAIpQLSeX1OSHj58EQs4ypFEPB_SH3OpWZeo67yU0WWOPVSqYtDrpWg/viewform) to share your Google Colab Notebook and your one-page, virtual project poster with the NSDC HQ Team.\n"
      ]
    },
    {
      "cell_type": "markdown",
      "metadata": {
        "id": "4V1-YsD695Bc"
      },
      "source": [
        "---\n",
        "---"
      ]
    },
    {
      "cell_type": "markdown",
      "metadata": {
        "id": "UT8Rpdt4ZPeA"
      },
      "source": [
        "## 🚗<font color='crimson'> **Thank you for completing the project!**</font> 🚗\n",
        "\n",
        "We are one step closer to making roads safer for all. [Please submit all materials to the NSDC HQ team](https://docs.google.com/forms/d/e/1FAIpQLSeX1OSHj58EQs4ypFEPB_SH3OpWZeo67yU0WWOPVSqYtDrpWg/viewform) in order to receive a certificate of completion. Do reach out to us if you have any questions or concerns. We are here to help you learn and grow.\n"
      ]
    }
  ],
  "metadata": {
    "colab": {
      "provenance": [],
      "include_colab_link": true
    },
    "kernelspec": {
      "display_name": "Python 3.8.8 ('base')",
      "language": "python",
      "name": "python3"
    },
    "language_info": {
      "codemirror_mode": {
        "name": "ipython",
        "version": 3
      },
      "file_extension": ".py",
      "mimetype": "text/x-python",
      "name": "python",
      "nbconvert_exporter": "python",
      "pygments_lexer": "ipython3",
      "version": "3.8.8"
    },
    "vscode": {
      "interpreter": {
        "hash": "58fcf84e0ebbaad2b6cc744ed9d48691de4e147b5be28c3707516d96647d7374"
      }
    }
  },
  "nbformat": 4,
  "nbformat_minor": 0
}